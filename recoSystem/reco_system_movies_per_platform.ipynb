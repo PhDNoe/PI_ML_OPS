{
 "cells": [
  {
   "cell_type": "markdown",
   "metadata": {},
   "source": [
    "![divider](https://user-images.githubusercontent.com/7065401/52071927-c1cd7100-2562-11e9-908a-dde91ba14e59.png)\n",
    "\n",
    "## Noelia's ML_OPS Project!  👻👻\n",
    "\n",
    "###  Notebook: Recomendation System\n",
    "\n",
    "\n",
    "\n",
    "![divider](https://user-images.githubusercontent.com/7065401/52071927-c1cd7100-2562-11e9-908a-dde91ba14e59.png)"
   ]
  },
  {
   "cell_type": "markdown",
   "metadata": {},
   "source": [
    "![divider](https://user-images.githubusercontent.com/7065401/52071927-c1cd7100-2562-11e9-908a-dde91ba14e59.png)\n",
    "\n",
    "### Load all_ratings.csv \n",
    "\n",
    "\n",
    "\n",
    "\n",
    "![divider](https://user-images.githubusercontent.com/7065401/52071927-c1cd7100-2562-11e9-908a-dde91ba14e59.png)"
   ]
  },
  {
   "cell_type": "code",
   "execution_count": 2,
   "metadata": {},
   "outputs": [
    {
     "data": {
      "text/html": [
       "<div>\n",
       "<style scoped>\n",
       "    .dataframe tbody tr th:only-of-type {\n",
       "        vertical-align: middle;\n",
       "    }\n",
       "\n",
       "    .dataframe tbody tr th {\n",
       "        vertical-align: top;\n",
       "    }\n",
       "\n",
       "    .dataframe thead th {\n",
       "        text-align: right;\n",
       "    }\n",
       "</style>\n",
       "<table border=\"1\" class=\"dataframe\">\n",
       "  <thead>\n",
       "    <tr style=\"text-align: right;\">\n",
       "      <th></th>\n",
       "      <th>userId</th>\n",
       "      <th>score</th>\n",
       "      <th>movieId</th>\n",
       "    </tr>\n",
       "  </thead>\n",
       "  <tbody>\n",
       "    <tr>\n",
       "      <th>0</th>\n",
       "      <td>1</td>\n",
       "      <td>1.0</td>\n",
       "      <td>as680</td>\n",
       "    </tr>\n",
       "    <tr>\n",
       "      <th>1</th>\n",
       "      <td>1</td>\n",
       "      <td>4.5</td>\n",
       "      <td>ns2186</td>\n",
       "    </tr>\n",
       "    <tr>\n",
       "      <th>2</th>\n",
       "      <td>1</td>\n",
       "      <td>5.0</td>\n",
       "      <td>hs2381</td>\n",
       "    </tr>\n",
       "    <tr>\n",
       "      <th>3</th>\n",
       "      <td>1</td>\n",
       "      <td>5.0</td>\n",
       "      <td>ns3663</td>\n",
       "    </tr>\n",
       "    <tr>\n",
       "      <th>4</th>\n",
       "      <td>1</td>\n",
       "      <td>5.0</td>\n",
       "      <td>as9500</td>\n",
       "    </tr>\n",
       "  </tbody>\n",
       "</table>\n",
       "</div>"
      ],
      "text/plain": [
       "   userId  score movieId\n",
       "0       1    1.0   as680\n",
       "1       1    4.5  ns2186\n",
       "2       1    5.0  hs2381\n",
       "3       1    5.0  ns3663\n",
       "4       1    5.0  as9500"
      ]
     },
     "execution_count": 2,
     "metadata": {},
     "output_type": "execute_result"
    }
   ],
   "source": [
    "import pandas as pd\n",
    "rating_all = pd.read_csv('../data/clean/filter/all_rating_filter_by_platform_by_movie.csv', index_col=0)\n",
    "rating_all.head()"
   ]
  },
  {
   "cell_type": "code",
   "execution_count": 3,
   "metadata": {},
   "outputs": [
    {
     "data": {
      "text/html": [
       "<div>\n",
       "<style scoped>\n",
       "    .dataframe tbody tr th:only-of-type {\n",
       "        vertical-align: middle;\n",
       "    }\n",
       "\n",
       "    .dataframe tbody tr th {\n",
       "        vertical-align: top;\n",
       "    }\n",
       "\n",
       "    .dataframe thead th {\n",
       "        text-align: right;\n",
       "    }\n",
       "</style>\n",
       "<table border=\"1\" class=\"dataframe\">\n",
       "  <thead>\n",
       "    <tr style=\"text-align: right;\">\n",
       "      <th></th>\n",
       "      <th>userId</th>\n",
       "      <th>movieId</th>\n",
       "      <th>score</th>\n",
       "    </tr>\n",
       "  </thead>\n",
       "  <tbody>\n",
       "    <tr>\n",
       "      <th>0</th>\n",
       "      <td>1</td>\n",
       "      <td>as680</td>\n",
       "      <td>1.0</td>\n",
       "    </tr>\n",
       "    <tr>\n",
       "      <th>1</th>\n",
       "      <td>1</td>\n",
       "      <td>ns2186</td>\n",
       "      <td>4.5</td>\n",
       "    </tr>\n",
       "    <tr>\n",
       "      <th>2</th>\n",
       "      <td>1</td>\n",
       "      <td>hs2381</td>\n",
       "      <td>5.0</td>\n",
       "    </tr>\n",
       "    <tr>\n",
       "      <th>3</th>\n",
       "      <td>1</td>\n",
       "      <td>ns3663</td>\n",
       "      <td>5.0</td>\n",
       "    </tr>\n",
       "    <tr>\n",
       "      <th>4</th>\n",
       "      <td>1</td>\n",
       "      <td>as9500</td>\n",
       "      <td>5.0</td>\n",
       "    </tr>\n",
       "  </tbody>\n",
       "</table>\n",
       "</div>"
      ],
      "text/plain": [
       "   userId movieId  score\n",
       "0       1   as680    1.0\n",
       "1       1  ns2186    4.5\n",
       "2       1  hs2381    5.0\n",
       "3       1  ns3663    5.0\n",
       "4       1  as9500    5.0"
      ]
     },
     "execution_count": 3,
     "metadata": {},
     "output_type": "execute_result"
    }
   ],
   "source": [
    "rating_all = rating_all[['userId', 'movieId','score']]\n",
    "rating_all.head()\n"
   ]
  },
  {
   "cell_type": "code",
   "execution_count": 4,
   "metadata": {},
   "outputs": [
    {
     "data": {
      "text/plain": [
       "userId\n",
       "111468     15\n",
       "12316      15\n",
       "31167      15\n",
       "252230     15\n",
       "66886      15\n",
       "         ... \n",
       "17654     207\n",
       "47359     207\n",
       "261843    207\n",
       "21083     207\n",
       "37905     207\n",
       "Name: score, Length: 76947, dtype: int64"
      ]
     },
     "execution_count": 4,
     "metadata": {},
     "output_type": "execute_result"
    }
   ],
   "source": [
    "rating_all.groupby('userId')['score'].count().sort_values()"
   ]
  },
  {
   "cell_type": "code",
   "execution_count": 5,
   "metadata": {},
   "outputs": [
    {
     "data": {
      "text/plain": [
       "count    76947.000000\n",
       "mean        55.903765\n",
       "std         47.130904\n",
       "min         15.000000\n",
       "25%         19.000000\n",
       "50%         37.000000\n",
       "75%         78.000000\n",
       "max        207.000000\n",
       "Name: score, dtype: float64"
      ]
     },
     "execution_count": 5,
     "metadata": {},
     "output_type": "execute_result"
    }
   ],
   "source": [
    "rating_all.groupby('userId')['score'].count().sort_values().describe()"
   ]
  },
  {
   "cell_type": "code",
   "execution_count": 6,
   "metadata": {},
   "outputs": [
    {
     "data": {
      "text/plain": [
       "<AxesSubplot: >"
      ]
     },
     "execution_count": 6,
     "metadata": {},
     "output_type": "execute_result"
    },
    {
     "data": {
      "image/png": "[encoded data removed]",
      "text/plain": [
       "<Figure size 640x480 with 1 Axes>"
      ]
     },
     "metadata": {},
     "output_type": "display_data"
    }
   ],
   "source": [
    "rating_all.groupby('userId')['score'].count().sort_values().hist()"
   ]
  },
  {
   "cell_type": "markdown",
   "metadata": {},
   "source": [
    "---\n",
    "### Select users with more than 20 reviews and less than 172 \n",
    "\n",
    "---"
   ]
  },
  {
   "cell_type": "code",
   "execution_count": 7,
   "metadata": {},
   "outputs": [],
   "source": [
    "cond1 = rating_all.groupby('userId')['score'].count().sort_values()>20\n",
    "cond2 = rating_all.groupby('userId')['score'].count().sort_values()<1.5*(78-15)+78\n",
    "\n",
    "selected_users = rating_all.groupby('userId')['score'].count()[cond1  & cond2].index.tolist()\n",
    "# selected_users"
   ]
  },
  {
   "cell_type": "code",
   "execution_count": 8,
   "metadata": {},
   "outputs": [
    {
     "data": {
      "text/plain": [
       "(3413430, 3)"
      ]
     },
     "execution_count": 8,
     "metadata": {},
     "output_type": "execute_result"
    }
   ],
   "source": [
    "partial_df = rating_all[rating_all['userId'].isin(selected_users)]\n",
    "partial_df.shape"
   ]
  },
  {
   "cell_type": "markdown",
   "metadata": {},
   "source": [
    "![divider](https://user-images.githubusercontent.com/7065401/52071927-c1cd7100-2562-11e9-908a-dde91ba14e59.png)\n",
    "### Distribution across score\n",
    "\n",
    "![divider](https://user-images.githubusercontent.com/7065401/52071927-c1cd7100-2562-11e9-908a-dde91ba14e59.png)"
   ]
  },
  {
   "cell_type": "code",
   "execution_count": 9,
   "metadata": {},
   "outputs": [
    {
     "data": {
      "text/plain": [
       "0.5     39639\n",
       "1.0    100920\n",
       "1.5     31323\n",
       "2.0    186501\n",
       "2.5     90732\n",
       "3.0    693338\n",
       "3.5    284191\n",
       "4.0    974538\n",
       "4.5    298172\n",
       "5.0    714076\n",
       "Name: score, dtype: int64"
      ]
     },
     "execution_count": 9,
     "metadata": {},
     "output_type": "execute_result"
    }
   ],
   "source": [
    "vc = partial_df['score'].value_counts().sort_index()\n",
    "vc"
   ]
  },
  {
   "cell_type": "code",
   "execution_count": 10,
   "metadata": {},
   "outputs": [],
   "source": [
    "# Split in df for each review\n",
    "df05 = partial_df.loc[partial_df['score']==0.5]\n",
    "df10 = partial_df.loc[partial_df['score']==1]\n",
    "df15 = partial_df.loc[partial_df['score']==1.5]\n",
    "df20 = partial_df.loc[partial_df['score']==2]\n",
    "df25 = partial_df.loc[partial_df['score']==2.5]\n",
    "df30 = partial_df.loc[partial_df['score']==3]\n",
    "df35 = partial_df.loc[partial_df['score']==3.5]\n",
    "df40 = partial_df.loc[partial_df['score']==4]\n",
    "df45 = partial_df.loc[partial_df['score']==4.5]\n",
    "df50 = partial_df.loc[partial_df['score']==5]\n"
   ]
  },
  {
   "cell_type": "code",
   "execution_count": 11,
   "metadata": {},
   "outputs": [],
   "source": [
    "# Create 10 dataframes of 100.000 or less of each class\n",
    "\n",
    "dfs = []\n",
    "for i in range(10):\n",
    "    dff = pd.concat([df05.sample(100000,replace=True),df10.sample(100000,replace=True),df15.sample(100000,replace=True),df20.sample(100000,replace=True),\n",
    "df25.sample(100000,replace=True),df30.sample(100000,replace=True),df35.sample(100000,replace=True),df40.sample(100000,replace=True),df45.sample(100000,replace=True),df50.sample(100000,replace=True)])\n",
    "    dfs.append(dff)"
   ]
  },
  {
   "cell_type": "code",
   "execution_count": 265,
   "metadata": {},
   "outputs": [
    {
     "data": {
      "text/plain": [
       "(1000000, 3)"
      ]
     },
     "execution_count": 265,
     "metadata": {},
     "output_type": "execute_result"
    }
   ],
   "source": [
    "dfs[0].shape"
   ]
  },
  {
   "cell_type": "markdown",
   "metadata": {},
   "source": [
    "![divider](https://user-images.githubusercontent.com/7065401/52071927-c1cd7100-2562-11e9-908a-dde91ba14e59.png)\n",
    "\n",
    "### Load  dataset\n",
    "\n",
    "![divider](https://user-images.githubusercontent.com/7065401/52071927-c1cd7100-2562-11e9-908a-dde91ba14e59.png)"
   ]
  },
  {
   "cell_type": "code",
   "execution_count": 266,
   "metadata": {},
   "outputs": [],
   "source": [
    "\n",
    "from surprise import Dataset, Reader\n",
    "from surprise import SVD\n",
    "from surprise.model_selection import train_test_split\n",
    "from surprise.model_selection import cross_validate\n",
    "\n",
    "# Load Dataset rating data\n",
    "readers = []\n",
    "\n",
    "for i in range(10):\n",
    "    reader = Reader(rating_scale=(0.5, 5))\n",
    "    readers.append(reader)\n",
    "\n",
    "dps = []\n",
    "for i in range(10):\n",
    "    dps.append(Dataset.load_from_df(dfs[i][['userId', 'movieId', 'score']], readers[i]))\n"
   ]
  },
  {
   "cell_type": "markdown",
   "metadata": {},
   "source": [
    "![divider](https://user-images.githubusercontent.com/7065401/52071927-c1cd7100-2562-11e9-908a-dde91ba14e59.png)\n",
    "### Split in train / test\n",
    "\n",
    "![divider](https://user-images.githubusercontent.com/7065401/52071927-c1cd7100-2562-11e9-908a-dde91ba14e59.png)"
   ]
  },
  {
   "cell_type": "code",
   "execution_count": 268,
   "metadata": {},
   "outputs": [],
   "source": [
    "# Split in train, test\n",
    "\n",
    "train_test_sets = []\n",
    "for dp in dps:\n",
    "    train1, test1 = train_test_split(dp, test_size = 0.15)\n",
    "    train_test_sets.append((train1,test1))\n"
   ]
  },
  {
   "cell_type": "code",
   "execution_count": 269,
   "metadata": {},
   "outputs": [
    {
     "data": {
      "text/plain": [
       "10"
      ]
     },
     "execution_count": 269,
     "metadata": {},
     "output_type": "execute_result"
    }
   ],
   "source": [
    "len(train_test_sets)"
   ]
  },
  {
   "cell_type": "markdown",
   "metadata": {},
   "source": [
    "![divider](https://user-images.githubusercontent.com/7065401/52071927-c1cd7100-2562-11e9-908a-dde91ba14e59.png)\n",
    "### Create the model\n",
    "\n",
    "![divider](https://user-images.githubusercontent.com/7065401/52071927-c1cd7100-2562-11e9-908a-dde91ba14e59.png)"
   ]
  },
  {
   "cell_type": "code",
   "execution_count": 270,
   "metadata": {},
   "outputs": [],
   "source": [
    "models = []\n",
    "\n",
    "for i in range(10):\n",
    "    m1 = SVD(n_factors=10, n_epochs=10, lr_all=0.005, reg_all=0.1)\n",
    "    models.append(m1)\n"
   ]
  },
  {
   "cell_type": "markdown",
   "metadata": {},
   "source": [
    "![divider](https://user-images.githubusercontent.com/7065401/52071927-c1cd7100-2562-11e9-908a-dde91ba14e59.png)\n",
    "### Train the models on train datasets\n",
    "\n",
    "![divider](https://user-images.githubusercontent.com/7065401/52071927-c1cd7100-2562-11e9-908a-dde91ba14e59.png)"
   ]
  },
  {
   "cell_type": "code",
   "execution_count": 271,
   "metadata": {},
   "outputs": [],
   "source": [
    "for idx, m1 in enumerate(models):\n",
    "    m1.fit(train_test_sets[i][0])"
   ]
  },
  {
   "cell_type": "markdown",
   "metadata": {},
   "source": [
    "![divider](https://user-images.githubusercontent.com/7065401/52071927-c1cd7100-2562-11e9-908a-dde91ba14e59.png)\n",
    "### Predict for 1 user, 1 movie\n",
    "\n",
    "![divider](https://user-images.githubusercontent.com/7065401/52071927-c1cd7100-2562-11e9-908a-dde91ba14e59.png)"
   ]
  },
  {
   "cell_type": "code",
   "execution_count": 272,
   "metadata": {},
   "outputs": [],
   "source": [
    "option1 = {\n",
    "    'userId':66575,\n",
    "    'movieId':'ns5785',\n",
    "    'score':1.5\n",
    "}\n",
    "\n",
    "option2= {\n",
    "    'userId':258545,\n",
    "    'movieId':'as922',\n",
    "    'score':0.5\n",
    "}\n",
    "\n",
    "option3= {\n",
    "    'userId':118361,\n",
    "    'movieId':'as8025',\n",
    "    'score':3.5\n",
    "}\n",
    "\n",
    "option4= {\n",
    "    'userId':7793,\n",
    "    'movieId':'ns7444',\n",
    "    'score':5.0\n",
    "}\n",
    "\n",
    "options = [option1,option2,option3,option4]"
   ]
  },
  {
   "cell_type": "code",
   "execution_count": 284,
   "metadata": {},
   "outputs": [
    {
     "name": "stdout",
     "output_type": "stream",
     "text": [
      "prediction -->  2.567866371058548\n",
      "prediction -->  2.5560536197184525\n",
      "prediction -->  2.516801471925606\n",
      "prediction -->  2.5268008236169677\n",
      "prediction -->  2.5279901935768123\n",
      "prediction -->  2.614921238974507\n",
      "prediction -->  2.62917631211705\n",
      "prediction -->  2.5323932141068877\n",
      "prediction -->  2.5461276239830295\n",
      "prediction -->  2.6087803770203557\n",
      "True score -->  3.5\n"
     ]
    }
   ],
   "source": [
    "j=2\n",
    "userId=options[j]['userId']\n",
    "movieId =options[j]['movieId']\n",
    "preds = []\n",
    "for i in range(10):\n",
    "    p1 = models[i].predict(userId, movieId).est\n",
    "    preds.append(p1)\n",
    "\n",
    "for pred in preds:\n",
    "    print(\"prediction --> \", pred)\n",
    "\n",
    "print(\"True score --> \", options[j]['score'])\n"
   ]
  },
  {
   "cell_type": "markdown",
   "metadata": {},
   "source": [
    "![divider](https://user-images.githubusercontent.com/7065401/52071927-c1cd7100-2562-11e9-908a-dde91ba14e59.png)\n",
    "### Predict using an ensemble\n",
    "![divider](https://user-images.githubusercontent.com/7065401/52071927-c1cd7100-2562-11e9-908a-dde91ba14e59.png)\n",
    "\n"
   ]
  },
  {
   "cell_type": "code",
   "execution_count": 280,
   "metadata": {},
   "outputs": [],
   "source": [
    "import numpy as np\n",
    "def make_ensemble_predictions(userId, movieId):\n",
    "    preds = []\n",
    "    for i in range(10):\n",
    "        p1 = models[i].predict(userId, movieId).est\n",
    "        preds.append(p1)\n",
    "    \n",
    "   \n",
    "    preds = np.array(preds)\n",
    "    votes = preds>2.5\n",
    "    nvotes = np.count_nonzero(votes)\n",
    "    if nvotes>4:\n",
    "        return \"Recomended Movie\"\n",
    "    else:\n",
    "        return \"not recommended Movie\""
   ]
  },
  {
   "cell_type": "code",
   "execution_count": 285,
   "metadata": {},
   "outputs": [
    {
     "data": {
      "text/plain": [
       "'Recomended Movie'"
      ]
     },
     "execution_count": 285,
     "metadata": {},
     "output_type": "execute_result"
    }
   ],
   "source": [
    "make_ensemble_predictions(userId, movieId)"
   ]
  },
  {
   "cell_type": "markdown",
   "metadata": {},
   "source": [
    "![divider](https://user-images.githubusercontent.com/7065401/52071927-c1cd7100-2562-11e9-908a-dde91ba14e59.png)\n",
    "### rmse across all test set\n",
    "![divider](https://user-images.githubusercontent.com/7065401/52071927-c1cd7100-2562-11e9-908a-dde91ba14e59.png)"
   ]
  },
  {
   "cell_type": "code",
   "execution_count": 286,
   "metadata": {},
   "outputs": [
    {
     "name": "stdout",
     "output_type": "stream",
     "text": [
      "RMSE: 1.2439\n",
      "RMSE: 1.2438\n",
      "RMSE: 1.2439\n",
      "RMSE: 1.2439\n",
      "RMSE: 1.2438\n",
      "RMSE: 1.2439\n",
      "RMSE: 1.2438\n",
      "RMSE: 1.2440\n",
      "RMSE: 1.2438\n",
      "RMSE: 1.2439\n"
     ]
    }
   ],
   "source": [
    "from surprise import accuracy\n",
    "# Calcular las predicciones sobre los datos de prueba\n",
    "\n",
    "all_preds = []\n",
    "for idx, model in enumerate(models):\n",
    "    all_preds.append(model.test(train_test_sets[i][1]))\n",
    "\n",
    "all_rmse = []\n",
    "for p in all_preds:\n",
    "    all_rmse.append(accuracy.rmse(p))"
   ]
  },
  {
   "cell_type": "markdown",
   "metadata": {},
   "source": [
    "![divider](https://user-images.githubusercontent.com/7065401/52071927-c1cd7100-2562-11e9-908a-dde91ba14e59.png)\n",
    "### Save the model\n",
    "\n",
    "![divider](https://user-images.githubusercontent.com/7065401/52071927-c1cd7100-2562-11e9-908a-dde91ba14e59.png)"
   ]
  },
  {
   "cell_type": "code",
   "execution_count": 287,
   "metadata": {},
   "outputs": [],
   "source": [
    "import pickle\n",
    "import os\n",
    "\n",
    "# Individual\n",
    "\n",
    "root_path = '../data/models/ensamble1/'\n",
    "isExist = os.path.exists(root_path)\n",
    "if not isExist:\n",
    "    # Create a new directory because it does not exist\n",
    "    os.makedirs(root_path)\n",
    "\n",
    "for idx, m in enumerate(models):\n",
    "    with open(root_path+'m'+str(idx)+'.pkl', 'wb') as f:\n",
    "        pickle.dump(m, f)"
   ]
  },
  {
   "cell_type": "markdown",
   "metadata": {},
   "source": [
    "![divider](https://user-images.githubusercontent.com/7065401/52071927-c1cd7100-2562-11e9-908a-dde91ba14e59.png)\n",
    "### If we need to load the model\n",
    "![divider](https://user-images.githubusercontent.com/7065401/52071927-c1cd7100-2562-11e9-908a-dde91ba14e59.png)"
   ]
  },
  {
   "cell_type": "code",
   "execution_count": null,
   "metadata": {},
   "outputs": [],
   "source": [
    "import pickle\n",
    "\n",
    "# Cargar el modelo desde el archivo\n",
    "with open('model_platform.pkl', 'rb') as f:\n",
    "    model_platform = pickle.load(f)"
   ]
  },
  {
   "cell_type": "markdown",
   "metadata": {},
   "source": [
    "![divider](https://user-images.githubusercontent.com/7065401/52071927-c1cd7100-2562-11e9-908a-dde91ba14e59.png)\n",
    "### Save dataframe with movie title\n",
    "\n",
    "![divider](https://user-images.githubusercontent.com/7065401/52071927-c1cd7100-2562-11e9-908a-dde91ba14e59.png)"
   ]
  },
  {
   "cell_type": "code",
   "execution_count": 18,
   "metadata": {},
   "outputs": [
    {
     "data": {
      "text/html": [
       "<div>\n",
       "<style scoped>\n",
       "    .dataframe tbody tr th:only-of-type {\n",
       "        vertical-align: middle;\n",
       "    }\n",
       "\n",
       "    .dataframe tbody tr th {\n",
       "        vertical-align: top;\n",
       "    }\n",
       "\n",
       "    .dataframe thead th {\n",
       "        text-align: right;\n",
       "    }\n",
       "</style>\n",
       "<table border=\"1\" class=\"dataframe\">\n",
       "  <thead>\n",
       "    <tr style=\"text-align: right;\">\n",
       "      <th></th>\n",
       "      <th>title</th>\n",
       "    </tr>\n",
       "    <tr>\n",
       "      <th>id</th>\n",
       "      <th></th>\n",
       "    </tr>\n",
       "  </thead>\n",
       "  <tbody>\n",
       "    <tr>\n",
       "      <th>as1</th>\n",
       "      <td>the grand seduction</td>\n",
       "    </tr>\n",
       "    <tr>\n",
       "      <th>as10</th>\n",
       "      <td>david's mother</td>\n",
       "    </tr>\n",
       "    <tr>\n",
       "      <th>as100</th>\n",
       "      <td>wilder napalm</td>\n",
       "    </tr>\n",
       "    <tr>\n",
       "      <th>as1000</th>\n",
       "      <td>sinbad: make me wanna holla</td>\n",
       "    </tr>\n",
       "    <tr>\n",
       "      <th>as1001</th>\n",
       "      <td>simple gifts: the chamber music society at sha...</td>\n",
       "    </tr>\n",
       "    <tr>\n",
       "      <th>...</th>\n",
       "      <td>...</td>\n",
       "    </tr>\n",
       "    <tr>\n",
       "      <th>ns995</th>\n",
       "      <td>this lady called life</td>\n",
       "    </tr>\n",
       "    <tr>\n",
       "      <th>ns996</th>\n",
       "      <td>vizontele</td>\n",
       "    </tr>\n",
       "    <tr>\n",
       "      <th>ns997</th>\n",
       "      <td>homunculus</td>\n",
       "    </tr>\n",
       "    <tr>\n",
       "      <th>ns998</th>\n",
       "      <td>life in color with david attenborough</td>\n",
       "    </tr>\n",
       "    <tr>\n",
       "      <th>ns999</th>\n",
       "      <td>searching for sheela</td>\n",
       "    </tr>\n",
       "  </tbody>\n",
       "</table>\n",
       "<p>22998 rows × 1 columns</p>\n",
       "</div>"
      ],
      "text/plain": [
       "                                                    title\n",
       "id                                                       \n",
       "as1                                   the grand seduction\n",
       "as10                                       david's mother\n",
       "as100                                       wilder napalm\n",
       "as1000                        sinbad: make me wanna holla\n",
       "as1001  simple gifts: the chamber music society at sha...\n",
       "...                                                   ...\n",
       "ns995                               this lady called life\n",
       "ns996                                           vizontele\n",
       "ns997                                          homunculus\n",
       "ns998               life in color with david attenborough\n",
       "ns999                                searching for sheela\n",
       "\n",
       "[22998 rows x 1 columns]"
      ]
     },
     "execution_count": 18,
     "metadata": {},
     "output_type": "execute_result"
    }
   ],
   "source": [
    "dfmovie = pd.read_csv('../data/clean/all_together_with_score.csv', index_col=0)\n",
    "dfmovie_mini = dfmovie[['id','title']]\n",
    "dfmovie_mini = dfmovie_mini.groupby('id').first()\n",
    "dfmovie_mini\n"
   ]
  },
  {
   "cell_type": "code",
   "execution_count": 22,
   "metadata": {},
   "outputs": [
    {
     "data": {
      "text/html": [
       "<div>\n",
       "<style scoped>\n",
       "    .dataframe tbody tr th:only-of-type {\n",
       "        vertical-align: middle;\n",
       "    }\n",
       "\n",
       "    .dataframe tbody tr th {\n",
       "        vertical-align: top;\n",
       "    }\n",
       "\n",
       "    .dataframe thead th {\n",
       "        text-align: right;\n",
       "    }\n",
       "</style>\n",
       "<table border=\"1\" class=\"dataframe\">\n",
       "  <thead>\n",
       "    <tr style=\"text-align: right;\">\n",
       "      <th></th>\n",
       "      <th>movieId</th>\n",
       "      <th>userId</th>\n",
       "      <th>score</th>\n",
       "      <th>title</th>\n",
       "    </tr>\n",
       "  </thead>\n",
       "  <tbody>\n",
       "    <tr>\n",
       "      <th>0</th>\n",
       "      <td>as680</td>\n",
       "      <td>1</td>\n",
       "      <td>1.0</td>\n",
       "      <td>the english civil war</td>\n",
       "    </tr>\n",
       "    <tr>\n",
       "      <th>1</th>\n",
       "      <td>ns2186</td>\n",
       "      <td>1</td>\n",
       "      <td>4.5</td>\n",
       "      <td>latte and the magic waterstone</td>\n",
       "    </tr>\n",
       "    <tr>\n",
       "      <th>2</th>\n",
       "      <td>hs2381</td>\n",
       "      <td>1</td>\n",
       "      <td>5.0</td>\n",
       "      <td>la diosa coronada</td>\n",
       "    </tr>\n",
       "    <tr>\n",
       "      <th>3</th>\n",
       "      <td>ns3663</td>\n",
       "      <td>1</td>\n",
       "      <td>5.0</td>\n",
       "      <td>frankenstein’s monster’s monster, frankenstein</td>\n",
       "    </tr>\n",
       "    <tr>\n",
       "      <th>4</th>\n",
       "      <td>as9500</td>\n",
       "      <td>1</td>\n",
       "      <td>5.0</td>\n",
       "      <td>kept woman</td>\n",
       "    </tr>\n",
       "  </tbody>\n",
       "</table>\n",
       "</div>"
      ],
      "text/plain": [
       "  movieId  userId  score                                           title\n",
       "0   as680       1    1.0                           the english civil war\n",
       "1  ns2186       1    4.5                  latte and the magic waterstone\n",
       "2  hs2381       1    5.0                               la diosa coronada\n",
       "3  ns3663       1    5.0  frankenstein’s monster’s monster, frankenstein\n",
       "4  as9500       1    5.0                                      kept woman"
      ]
     },
     "execution_count": 22,
     "metadata": {},
     "output_type": "execute_result"
    }
   ],
   "source": [
    "# Load ratings data\n",
    "df_save = partial_df\n",
    "\n",
    "# promote id as index\n",
    "df_save.set_index('movieId', inplace=True)\n",
    "\n",
    "# Assign a new column name\n",
    "df_save = df_save.assign(title = dfmovie_mini)\n",
    "\n",
    "# Reset index\n",
    "df_save.reset_index(inplace=True)\n",
    "df_save.head()"
   ]
  },
  {
   "cell_type": "code",
   "execution_count": 23,
   "metadata": {},
   "outputs": [],
   "source": [
    "# save complete dataframe to a file all_ratings_with_title.csv\n",
    "df_save.to_csv('../data/clean/all_ratings_with_title.csv')"
   ]
  },
  {
   "cell_type": "markdown",
   "metadata": {},
   "source": [
    "![divider](https://user-images.githubusercontent.com/7065401/52071927-c1cd7100-2562-11e9-908a-dde91ba14e59.png)\n",
    "### Cross validation\n",
    "![divider](https://user-images.githubusercontent.com/7065401/52071927-c1cd7100-2562-11e9-908a-dde91ba14e59.png)"
   ]
  },
  {
   "cell_type": "code",
   "execution_count": null,
   "metadata": {},
   "outputs": [],
   "source": [
    "# model_cv = SVD(n_factors=50)\n",
    "# x = cross_validate(model_cv, data_platform, measures=['RMSE', 'MAE'], cv=2, verbose=True)"
   ]
  }
 ],
 "metadata": {
  "kernelspec": {
   "display_name": "venvFastAPI",
   "language": "python",
   "name": "python3"
  },
  "language_info": {
   "codemirror_mode": {
    "name": "ipython",
    "version": 3
   },
   "file_extension": ".py",
   "mimetype": "text/x-python",
   "name": "python",
   "nbconvert_exporter": "python",
   "pygments_lexer": "ipython3",
   "version": "3.10.9"
  },
  "orig_nbformat": 4,
  "vscode": {
   "interpreter": {
    "hash": "e946a788f751efc9e5720f716a1bfd889bbc0b7e798278a06e7c7f285e514d36"
   }
  }
 },
 "nbformat": 4,
 "nbformat_minor": 2
}
