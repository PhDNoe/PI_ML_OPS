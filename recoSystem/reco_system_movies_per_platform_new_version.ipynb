{
 "cells": [
  {
   "cell_type": "markdown",
   "metadata": {},
   "source": [
    "![divider](https://user-images.githubusercontent.com/7065401/52071927-c1cd7100-2562-11e9-908a-dde91ba14e59.png)\n",
    "\n",
    "## Noelia's ML_OPS Project!  👻👻\n",
    "\n",
    "###  Notebook: Recomendation System\n",
    "\n",
    "\n",
    "\n",
    "![divider](https://user-images.githubusercontent.com/7065401/52071927-c1cd7100-2562-11e9-908a-dde91ba14e59.png)"
   ]
  },
  {
   "cell_type": "markdown",
   "metadata": {},
   "source": [
    "![divider](https://user-images.githubusercontent.com/7065401/52071927-c1cd7100-2562-11e9-908a-dde91ba14e59.png)\n",
    "\n",
    "### Load all_ratings.csv \n",
    "\n",
    "\n",
    "\n",
    "\n",
    "![divider](https://user-images.githubusercontent.com/7065401/52071927-c1cd7100-2562-11e9-908a-dde91ba14e59.png)"
   ]
  },
  {
   "cell_type": "code",
   "execution_count": 1,
   "metadata": {},
   "outputs": [
    {
     "data": {
      "text/html": [
       "<div>\n",
       "<style scoped>\n",
       "    .dataframe tbody tr th:only-of-type {\n",
       "        vertical-align: middle;\n",
       "    }\n",
       "\n",
       "    .dataframe tbody tr th {\n",
       "        vertical-align: top;\n",
       "    }\n",
       "\n",
       "    .dataframe thead th {\n",
       "        text-align: right;\n",
       "    }\n",
       "</style>\n",
       "<table border=\"1\" class=\"dataframe\">\n",
       "  <thead>\n",
       "    <tr style=\"text-align: right;\">\n",
       "      <th></th>\n",
       "      <th>userId</th>\n",
       "      <th>score</th>\n",
       "      <th>movieId</th>\n",
       "    </tr>\n",
       "  </thead>\n",
       "  <tbody>\n",
       "    <tr>\n",
       "      <th>59</th>\n",
       "      <td>4</td>\n",
       "      <td>4.0</td>\n",
       "      <td>ns5217</td>\n",
       "    </tr>\n",
       "    <tr>\n",
       "      <th>60</th>\n",
       "      <td>4</td>\n",
       "      <td>4.0</td>\n",
       "      <td>hs2554</td>\n",
       "    </tr>\n",
       "    <tr>\n",
       "      <th>61</th>\n",
       "      <td>4</td>\n",
       "      <td>4.0</td>\n",
       "      <td>ns5600</td>\n",
       "    </tr>\n",
       "    <tr>\n",
       "      <th>62</th>\n",
       "      <td>4</td>\n",
       "      <td>5.0</td>\n",
       "      <td>as1526</td>\n",
       "    </tr>\n",
       "    <tr>\n",
       "      <th>63</th>\n",
       "      <td>4</td>\n",
       "      <td>4.0</td>\n",
       "      <td>ns3136</td>\n",
       "    </tr>\n",
       "  </tbody>\n",
       "</table>\n",
       "</div>"
      ],
      "text/plain": [
       "    userId  score movieId\n",
       "59       4    4.0  ns5217\n",
       "60       4    4.0  hs2554\n",
       "61       4    4.0  ns5600\n",
       "62       4    5.0  as1526\n",
       "63       4    4.0  ns3136"
      ]
     },
     "execution_count": 1,
     "metadata": {},
     "output_type": "execute_result"
    }
   ],
   "source": [
    "import pandas as pd\n",
    "rating_all = pd.read_csv('../data/clean/filter/all_rating_filtered.csv', index_col=0)\n",
    "rating_all.head()"
   ]
  },
  {
   "cell_type": "code",
   "execution_count": 2,
   "metadata": {},
   "outputs": [
    {
     "data": {
      "text/html": [
       "<div>\n",
       "<style scoped>\n",
       "    .dataframe tbody tr th:only-of-type {\n",
       "        vertical-align: middle;\n",
       "    }\n",
       "\n",
       "    .dataframe tbody tr th {\n",
       "        vertical-align: top;\n",
       "    }\n",
       "\n",
       "    .dataframe thead th {\n",
       "        text-align: right;\n",
       "    }\n",
       "</style>\n",
       "<table border=\"1\" class=\"dataframe\">\n",
       "  <thead>\n",
       "    <tr style=\"text-align: right;\">\n",
       "      <th></th>\n",
       "      <th>userId</th>\n",
       "      <th>movieId</th>\n",
       "      <th>score</th>\n",
       "    </tr>\n",
       "  </thead>\n",
       "  <tbody>\n",
       "    <tr>\n",
       "      <th>59</th>\n",
       "      <td>4</td>\n",
       "      <td>ns5217</td>\n",
       "      <td>4.0</td>\n",
       "    </tr>\n",
       "    <tr>\n",
       "      <th>60</th>\n",
       "      <td>4</td>\n",
       "      <td>hs2554</td>\n",
       "      <td>4.0</td>\n",
       "    </tr>\n",
       "    <tr>\n",
       "      <th>61</th>\n",
       "      <td>4</td>\n",
       "      <td>ns5600</td>\n",
       "      <td>4.0</td>\n",
       "    </tr>\n",
       "    <tr>\n",
       "      <th>62</th>\n",
       "      <td>4</td>\n",
       "      <td>as1526</td>\n",
       "      <td>5.0</td>\n",
       "    </tr>\n",
       "    <tr>\n",
       "      <th>63</th>\n",
       "      <td>4</td>\n",
       "      <td>ns3136</td>\n",
       "      <td>4.0</td>\n",
       "    </tr>\n",
       "  </tbody>\n",
       "</table>\n",
       "</div>"
      ],
      "text/plain": [
       "    userId movieId  score\n",
       "59       4  ns5217    4.0\n",
       "60       4  hs2554    4.0\n",
       "61       4  ns5600    4.0\n",
       "62       4  as1526    5.0\n",
       "63       4  ns3136    4.0"
      ]
     },
     "execution_count": 2,
     "metadata": {},
     "output_type": "execute_result"
    }
   ],
   "source": [
    "# reorder\n",
    "rating_all = rating_all[['userId', 'movieId','score']]\n",
    "rating_all.head()\n"
   ]
  },
  {
   "cell_type": "code",
   "execution_count": 3,
   "metadata": {},
   "outputs": [
    {
     "data": {
      "text/plain": [
       "userId\n",
       "16020        50\n",
       "263283       50\n",
       "113758       50\n",
       "56285        50\n",
       "56290        50\n",
       "          ...  \n",
       "24025      4946\n",
       "70648      5356\n",
       "270123     7638\n",
       "8659       9279\n",
       "45811     18276\n",
       "Name: score, Length: 43886, dtype: int64"
      ]
     },
     "execution_count": 3,
     "metadata": {},
     "output_type": "execute_result"
    }
   ],
   "source": [
    "rating_all.groupby('userId')['score'].count().sort_values()"
   ]
  },
  {
   "cell_type": "code",
   "execution_count": 4,
   "metadata": {},
   "outputs": [
    {
     "data": {
      "text/plain": [
       "count    43886.000000\n",
       "mean       220.680240\n",
       "std        300.347957\n",
       "min         50.000000\n",
       "25%         76.000000\n",
       "50%        124.000000\n",
       "75%        245.000000\n",
       "max      18276.000000\n",
       "Name: score, dtype: float64"
      ]
     },
     "execution_count": 4,
     "metadata": {},
     "output_type": "execute_result"
    }
   ],
   "source": [
    "rating_all.groupby('userId')['score'].count().sort_values().describe()\n",
    "# "
   ]
  },
  {
   "cell_type": "code",
   "execution_count": 5,
   "metadata": {},
   "outputs": [
    {
     "data": {
      "image/png": "[encoded data removed]",
      "text/plain": [
       "<Figure size 640x480 with 1 Axes>"
      ]
     },
     "metadata": {},
     "output_type": "display_data"
    }
   ],
   "source": [
    "import matplotlib.pyplot as plt\n",
    "\n",
    "reviews_by_users = rating_all.groupby('userId')['score'].count().sort_values()\n",
    "plt.hist(reviews_by_users,bins=20,range=(50,200))\n",
    "plt.show()"
   ]
  },
  {
   "cell_type": "code",
   "execution_count": 6,
   "metadata": {},
   "outputs": [
    {
     "data": {
      "text/plain": [
       "30069"
      ]
     },
     "execution_count": 6,
     "metadata": {},
     "output_type": "execute_result"
    }
   ],
   "source": [
    "mask = (reviews_by_users >=50) & (reviews_by_users <=200)\n",
    "selected_users = reviews_by_users[mask].index.tolist()\n",
    "len(selected_users)\n",
    "\n",
    "# rating_all.loc[rating_all['userId']==45811]"
   ]
  },
  {
   "cell_type": "markdown",
   "metadata": {},
   "source": [
    "![divider](https://user-images.githubusercontent.com/7065401/52071927-c1cd7100-2562-11e9-908a-dde91ba14e59.png)\n",
    "### Distribution across score\n",
    "\n",
    "![divider](https://user-images.githubusercontent.com/7065401/52071927-c1cd7100-2562-11e9-908a-dde91ba14e59.png)"
   ]
  },
  {
   "cell_type": "code",
   "execution_count": 7,
   "metadata": {},
   "outputs": [
    {
     "data": {
      "text/plain": [
       "0.5     35297\n",
       "1.0     87555\n",
       "1.5     28709\n",
       "2.0    166594\n",
       "2.5     86603\n",
       "3.0    600851\n",
       "3.5    275486\n",
       "4.0    870562\n",
       "4.5    278725\n",
       "5.0    599548\n",
       "Name: score, dtype: int64"
      ]
     },
     "execution_count": 7,
     "metadata": {},
     "output_type": "execute_result"
    }
   ],
   "source": [
    "selected_df = rating_all.loc[rating_all['userId'].isin(selected_users)]\n",
    "\n",
    "vc = selected_df['score'].value_counts().sort_index()\n",
    "vc\n"
   ]
  },
  {
   "cell_type": "code",
   "execution_count": 8,
   "metadata": {},
   "outputs": [],
   "source": [
    "# rename selected_df by df  \n",
    "df = selected_df"
   ]
  },
  {
   "cell_type": "code",
   "execution_count": 9,
   "metadata": {},
   "outputs": [],
   "source": [
    "# Split in df for each review\n",
    "df05 = df.loc[df['score']==0.5]\n",
    "df10 = df.loc[df['score']==1]\n",
    "df15 = df.loc[df['score']==1.5]\n",
    "df20 = df.loc[df['score']==2]\n",
    "df25 = df.loc[df['score']==2.5]\n",
    "df30 = df.loc[df['score']==3]\n",
    "df35 = df.loc[df['score']==3.5]\n",
    "df40 = df.loc[df['score']==4]\n",
    "df45 = df.loc[df['score']==4.5]\n",
    "df50 = df.loc[df['score']==5]\n"
   ]
  },
  {
   "cell_type": "code",
   "execution_count": 10,
   "metadata": {},
   "outputs": [],
   "source": [
    "# Create 10 dataframes of X or less of each class\n",
    "x = 10000\n",
    "\n",
    "dfs = []\n",
    "for i in range(10):\n",
    "    dff = pd.concat([df05.sample(x,replace=True),df10.sample(x,replace=True),df15.sample(x,replace=True),df20.sample(x,replace=False),\n",
    "df25.sample(x,replace=True),df30.sample(x,replace=False),df35.sample(x,replace=False),df40.sample(x,replace=False),df45.sample(x,replace=False),df50.sample(x,replace=False)])\n",
    "    dfs.append(dff)"
   ]
  },
  {
   "cell_type": "code",
   "execution_count": 11,
   "metadata": {},
   "outputs": [
    {
     "data": {
      "text/plain": [
       "(100000, 3)"
      ]
     },
     "execution_count": 11,
     "metadata": {},
     "output_type": "execute_result"
    }
   ],
   "source": [
    "dfs[0].shape"
   ]
  },
  {
   "cell_type": "markdown",
   "metadata": {},
   "source": [
    "![divider](https://user-images.githubusercontent.com/7065401/52071927-c1cd7100-2562-11e9-908a-dde91ba14e59.png)\n",
    "\n",
    "### Load  dataset\n",
    "\n",
    "![divider](https://user-images.githubusercontent.com/7065401/52071927-c1cd7100-2562-11e9-908a-dde91ba14e59.png)"
   ]
  },
  {
   "cell_type": "code",
   "execution_count": 12,
   "metadata": {},
   "outputs": [],
   "source": [
    "\n",
    "from surprise import Dataset, Reader\n",
    "from surprise import SVD\n",
    "from surprise.model_selection import train_test_split\n",
    "from surprise.model_selection import cross_validate\n",
    "\n",
    "# Load Dataset rating data\n",
    "readers = []\n",
    "\n",
    "for i in range(10):\n",
    "    reader = Reader(rating_scale=(0.5, 5))\n",
    "    readers.append(reader)\n",
    "reader_F = Reader(rating_scale=(0.5, 5))\n",
    "\n",
    "dps = []\n",
    "for i in range(10):\n",
    "    dps.append(Dataset.load_from_df(dfs[i][['userId', 'movieId', 'score']], readers[i]))\n",
    "dps_F = Dataset.load_from_df(df[['userId', 'movieId', 'score']], reader_F)"
   ]
  },
  {
   "cell_type": "markdown",
   "metadata": {},
   "source": [
    "![divider](https://user-images.githubusercontent.com/7065401/52071927-c1cd7100-2562-11e9-908a-dde91ba14e59.png)\n",
    "### Split in train / test\n",
    "\n",
    "![divider](https://user-images.githubusercontent.com/7065401/52071927-c1cd7100-2562-11e9-908a-dde91ba14e59.png)"
   ]
  },
  {
   "cell_type": "code",
   "execution_count": 13,
   "metadata": {},
   "outputs": [],
   "source": [
    "# Split in train, test\n",
    "\n",
    "train_test_sets = []\n",
    "for dp in dps:\n",
    "    train1, test1 = train_test_split(dp, test_size = 0.15)\n",
    "    train_test_sets.append((train1,test1))\n",
    "    \n",
    "train_F, test_F = train_test_split(dps_F, test_size = 0.15)"
   ]
  },
  {
   "cell_type": "code",
   "execution_count": 14,
   "metadata": {},
   "outputs": [
    {
     "data": {
      "text/plain": [
       "10"
      ]
     },
     "execution_count": 14,
     "metadata": {},
     "output_type": "execute_result"
    }
   ],
   "source": [
    "len(train_test_sets)"
   ]
  },
  {
   "cell_type": "code",
   "execution_count": 21,
   "metadata": {},
   "outputs": [
    {
     "data": {
      "text/plain": [
       "0"
      ]
     },
     "execution_count": 21,
     "metadata": {},
     "output_type": "execute_result"
    }
   ],
   "source": [
    "import gc\n",
    "\n",
    "gc.collect()"
   ]
  },
  {
   "cell_type": "markdown",
   "metadata": {},
   "source": [
    "![divider](https://user-images.githubusercontent.com/7065401/52071927-c1cd7100-2562-11e9-908a-dde91ba14e59.png)\n",
    "### Create the model\n",
    "\n",
    "![divider](https://user-images.githubusercontent.com/7065401/52071927-c1cd7100-2562-11e9-908a-dde91ba14e59.png)"
   ]
  },
  {
   "cell_type": "code",
   "execution_count": 22,
   "metadata": {},
   "outputs": [],
   "source": [
    "models = []\n",
    "\n",
    "for i in range(10):\n",
    "    m1 = SVD(n_factors=50, n_epochs=20, lr_all=0.005, reg_all=0.01)\n",
    "    models.append(m1)\n",
    "\n",
    "model_F = SVD(n_factors=50, n_epochs=20, lr_all=0.005, reg_all=0.01)"
   ]
  },
  {
   "cell_type": "markdown",
   "metadata": {},
   "source": [
    "![divider](https://user-images.githubusercontent.com/7065401/52071927-c1cd7100-2562-11e9-908a-dde91ba14e59.png)\n",
    "### Train the models on train datasets\n",
    "\n",
    "![divider](https://user-images.githubusercontent.com/7065401/52071927-c1cd7100-2562-11e9-908a-dde91ba14e59.png)"
   ]
  },
  {
   "cell_type": "code",
   "execution_count": 23,
   "metadata": {},
   "outputs": [
    {
     "data": {
      "text/plain": [
       "<surprise.prediction_algorithms.matrix_factorization.SVD at 0x1c518370670>"
      ]
     },
     "execution_count": 23,
     "metadata": {},
     "output_type": "execute_result"
    }
   ],
   "source": [
    "for idx, m1 in enumerate(models):\n",
    "    m1.fit(train_test_sets[i][0])\n",
    "model_F.fit(train_F)"
   ]
  },
  {
   "cell_type": "markdown",
   "metadata": {},
   "source": [
    "![divider](https://user-images.githubusercontent.com/7065401/52071927-c1cd7100-2562-11e9-908a-dde91ba14e59.png)\n",
    "### Predict for 1 user, 1 movie\n",
    "\n",
    "![divider](https://user-images.githubusercontent.com/7065401/52071927-c1cd7100-2562-11e9-908a-dde91ba14e59.png)"
   ]
  },
  {
   "cell_type": "code",
   "execution_count": 17,
   "metadata": {},
   "outputs": [],
   "source": [
    "option1 = {\n",
    "    'userId':66575,\n",
    "    'movieId':'ns5785',\n",
    "    'score':1.5\n",
    "}\n",
    "\n",
    "option2= {\n",
    "    'userId':258545,\n",
    "    'movieId':'as922',\n",
    "    'score':0.5\n",
    "}\n",
    "\n",
    "option3= {\n",
    "    'userId':118361,\n",
    "    'movieId':'as8025',\n",
    "    'score':3.5\n",
    "}\n",
    "\n",
    "option4= {\n",
    "    'userId':7793,\n",
    "    'movieId':'ns7444',\n",
    "    'score':5.0\n",
    "}\n",
    "\n",
    "options = [option1,option2,option3,option4]"
   ]
  },
  {
   "cell_type": "code",
   "execution_count": 30,
   "metadata": {},
   "outputs": [
    {
     "name": "stdout",
     "output_type": "stream",
     "text": [
      "prediction -->  2.0643302047807546\n",
      "prediction -->  1.9857975092882394\n",
      "prediction -->  1.9959526187099628\n",
      "prediction -->  1.927535052662561\n",
      "prediction -->  2.0536015043795626\n",
      "prediction -->  2.036945101335693\n",
      "prediction -->  2.0107539541209087\n",
      "prediction -->  1.9638260486222265\n",
      "prediction -->  1.936246445088819\n",
      "prediction -->  1.9020039497001744\n",
      "pred_F -->  2.759110333861534\n",
      "------------------------------------------------\n",
      "True score -->  0.5\n",
      "------------------------------------------------\n"
     ]
    }
   ],
   "source": [
    "j=1\n",
    "\n",
    "userId=options[j]['userId']\n",
    "movieId =options[j]['movieId']\n",
    "preds = []\n",
    "for i in range(10):\n",
    "    p1 = models[i].predict(userId, movieId).est\n",
    "    preds.append(p1)\n",
    "pred_F = model_F.predict(userId, movieId).est\n",
    "for pred in preds:\n",
    "    print(\"prediction --> \", pred)\n",
    "print(\"pred_F --> \", pred_F)\n",
    "print(\"------------------------------------------------\")\n",
    "print(\"True score --> \", options[j]['score'])\n",
    "print(\"------------------------------------------------\")"
   ]
  },
  {
   "cell_type": "markdown",
   "metadata": {},
   "source": [
    "![divider](https://user-images.githubusercontent.com/7065401/52071927-c1cd7100-2562-11e9-908a-dde91ba14e59.png)\n",
    "### Predict using an ensemble\n",
    "![divider](https://user-images.githubusercontent.com/7065401/52071927-c1cd7100-2562-11e9-908a-dde91ba14e59.png)\n",
    "\n"
   ]
  },
  {
   "cell_type": "code",
   "execution_count": 280,
   "metadata": {},
   "outputs": [],
   "source": [
    "import numpy as np\n",
    "def make_ensemble_predictions(userId, movieId):\n",
    "    preds = []\n",
    "    for i in range(10):\n",
    "        p1 = models[i].predict(userId, movieId).est\n",
    "        preds.append(p1)\n",
    "    \n",
    "   \n",
    "    preds = np.array(preds)\n",
    "    votes = preds>2.5\n",
    "    nvotes = np.count_nonzero(votes)\n",
    "    if nvotes>4:\n",
    "        return \"Recomended Movie\"\n",
    "    else:\n",
    "        return \"not recommended Movie\""
   ]
  },
  {
   "cell_type": "code",
   "execution_count": 285,
   "metadata": {},
   "outputs": [
    {
     "data": {
      "text/plain": [
       "'Recomended Movie'"
      ]
     },
     "execution_count": 285,
     "metadata": {},
     "output_type": "execute_result"
    }
   ],
   "source": [
    "make_ensemble_predictions(userId, movieId)"
   ]
  },
  {
   "cell_type": "markdown",
   "metadata": {},
   "source": [
    "![divider](https://user-images.githubusercontent.com/7065401/52071927-c1cd7100-2562-11e9-908a-dde91ba14e59.png)\n",
    "### rmse across all test set\n",
    "![divider](https://user-images.githubusercontent.com/7065401/52071927-c1cd7100-2562-11e9-908a-dde91ba14e59.png)"
   ]
  },
  {
   "cell_type": "code",
   "execution_count": 286,
   "metadata": {},
   "outputs": [
    {
     "name": "stdout",
     "output_type": "stream",
     "text": [
      "RMSE: 1.2439\n",
      "RMSE: 1.2438\n",
      "RMSE: 1.2439\n",
      "RMSE: 1.2439\n",
      "RMSE: 1.2438\n",
      "RMSE: 1.2439\n",
      "RMSE: 1.2438\n",
      "RMSE: 1.2440\n",
      "RMSE: 1.2438\n",
      "RMSE: 1.2439\n"
     ]
    }
   ],
   "source": [
    "from surprise import accuracy\n",
    "# Calcular las predicciones sobre los datos de prueba\n",
    "\n",
    "all_preds = []\n",
    "for idx, model in enumerate(models):\n",
    "    all_preds.append(model.test(train_test_sets[i][1]))\n",
    "\n",
    "all_rmse = []\n",
    "for p in all_preds:\n",
    "    all_rmse.append(accuracy.rmse(p))"
   ]
  },
  {
   "cell_type": "markdown",
   "metadata": {},
   "source": [
    "![divider](https://user-images.githubusercontent.com/7065401/52071927-c1cd7100-2562-11e9-908a-dde91ba14e59.png)\n",
    "### Save the model\n",
    "\n",
    "![divider](https://user-images.githubusercontent.com/7065401/52071927-c1cd7100-2562-11e9-908a-dde91ba14e59.png)"
   ]
  },
  {
   "cell_type": "code",
   "execution_count": 287,
   "metadata": {},
   "outputs": [],
   "source": [
    "import pickle\n",
    "import os\n",
    "\n",
    "# Individual\n",
    "\n",
    "root_path = '../data/models/ensamble1/'\n",
    "isExist = os.path.exists(root_path)\n",
    "if not isExist:\n",
    "    # Create a new directory because it does not exist\n",
    "    os.makedirs(root_path)\n",
    "\n",
    "for idx, m in enumerate(models):\n",
    "    with open(root_path+'m'+str(idx)+'.pkl', 'wb') as f:\n",
    "        pickle.dump(m, f)"
   ]
  },
  {
   "cell_type": "markdown",
   "metadata": {},
   "source": [
    "![divider](https://user-images.githubusercontent.com/7065401/52071927-c1cd7100-2562-11e9-908a-dde91ba14e59.png)\n",
    "### If we need to load the model\n",
    "![divider](https://user-images.githubusercontent.com/7065401/52071927-c1cd7100-2562-11e9-908a-dde91ba14e59.png)"
   ]
  },
  {
   "cell_type": "code",
   "execution_count": null,
   "metadata": {},
   "outputs": [],
   "source": [
    "import pickle\n",
    "\n",
    "# Cargar el modelo desde el archivo\n",
    "with open('model_platform.pkl', 'rb') as f:\n",
    "    model_platform = pickle.load(f)"
   ]
  },
  {
   "cell_type": "markdown",
   "metadata": {},
   "source": [
    "![divider](https://user-images.githubusercontent.com/7065401/52071927-c1cd7100-2562-11e9-908a-dde91ba14e59.png)\n",
    "### Save dataframe with movie title\n",
    "\n",
    "![divider](https://user-images.githubusercontent.com/7065401/52071927-c1cd7100-2562-11e9-908a-dde91ba14e59.png)"
   ]
  },
  {
   "cell_type": "code",
   "execution_count": 18,
   "metadata": {},
   "outputs": [
    {
     "data": {
      "text/html": [
       "<div>\n",
       "<style scoped>\n",
       "    .dataframe tbody tr th:only-of-type {\n",
       "        vertical-align: middle;\n",
       "    }\n",
       "\n",
       "    .dataframe tbody tr th {\n",
       "        vertical-align: top;\n",
       "    }\n",
       "\n",
       "    .dataframe thead th {\n",
       "        text-align: right;\n",
       "    }\n",
       "</style>\n",
       "<table border=\"1\" class=\"dataframe\">\n",
       "  <thead>\n",
       "    <tr style=\"text-align: right;\">\n",
       "      <th></th>\n",
       "      <th>title</th>\n",
       "    </tr>\n",
       "    <tr>\n",
       "      <th>id</th>\n",
       "      <th></th>\n",
       "    </tr>\n",
       "  </thead>\n",
       "  <tbody>\n",
       "    <tr>\n",
       "      <th>as1</th>\n",
       "      <td>the grand seduction</td>\n",
       "    </tr>\n",
       "    <tr>\n",
       "      <th>as10</th>\n",
       "      <td>david's mother</td>\n",
       "    </tr>\n",
       "    <tr>\n",
       "      <th>as100</th>\n",
       "      <td>wilder napalm</td>\n",
       "    </tr>\n",
       "    <tr>\n",
       "      <th>as1000</th>\n",
       "      <td>sinbad: make me wanna holla</td>\n",
       "    </tr>\n",
       "    <tr>\n",
       "      <th>as1001</th>\n",
       "      <td>simple gifts: the chamber music society at sha...</td>\n",
       "    </tr>\n",
       "    <tr>\n",
       "      <th>...</th>\n",
       "      <td>...</td>\n",
       "    </tr>\n",
       "    <tr>\n",
       "      <th>ns995</th>\n",
       "      <td>this lady called life</td>\n",
       "    </tr>\n",
       "    <tr>\n",
       "      <th>ns996</th>\n",
       "      <td>vizontele</td>\n",
       "    </tr>\n",
       "    <tr>\n",
       "      <th>ns997</th>\n",
       "      <td>homunculus</td>\n",
       "    </tr>\n",
       "    <tr>\n",
       "      <th>ns998</th>\n",
       "      <td>life in color with david attenborough</td>\n",
       "    </tr>\n",
       "    <tr>\n",
       "      <th>ns999</th>\n",
       "      <td>searching for sheela</td>\n",
       "    </tr>\n",
       "  </tbody>\n",
       "</table>\n",
       "<p>22998 rows × 1 columns</p>\n",
       "</div>"
      ],
      "text/plain": [
       "                                                    title\n",
       "id                                                       \n",
       "as1                                   the grand seduction\n",
       "as10                                       david's mother\n",
       "as100                                       wilder napalm\n",
       "as1000                        sinbad: make me wanna holla\n",
       "as1001  simple gifts: the chamber music society at sha...\n",
       "...                                                   ...\n",
       "ns995                               this lady called life\n",
       "ns996                                           vizontele\n",
       "ns997                                          homunculus\n",
       "ns998               life in color with david attenborough\n",
       "ns999                                searching for sheela\n",
       "\n",
       "[22998 rows x 1 columns]"
      ]
     },
     "execution_count": 18,
     "metadata": {},
     "output_type": "execute_result"
    }
   ],
   "source": [
    "dfmovie = pd.read_csv('../data/clean/all_together_with_score.csv', index_col=0)\n",
    "dfmovie_mini = dfmovie[['id','title']]\n",
    "dfmovie_mini = dfmovie_mini.groupby('id').first()\n",
    "dfmovie_mini\n"
   ]
  },
  {
   "cell_type": "code",
   "execution_count": 22,
   "metadata": {},
   "outputs": [
    {
     "data": {
      "text/html": [
       "<div>\n",
       "<style scoped>\n",
       "    .dataframe tbody tr th:only-of-type {\n",
       "        vertical-align: middle;\n",
       "    }\n",
       "\n",
       "    .dataframe tbody tr th {\n",
       "        vertical-align: top;\n",
       "    }\n",
       "\n",
       "    .dataframe thead th {\n",
       "        text-align: right;\n",
       "    }\n",
       "</style>\n",
       "<table border=\"1\" class=\"dataframe\">\n",
       "  <thead>\n",
       "    <tr style=\"text-align: right;\">\n",
       "      <th></th>\n",
       "      <th>movieId</th>\n",
       "      <th>userId</th>\n",
       "      <th>score</th>\n",
       "      <th>title</th>\n",
       "    </tr>\n",
       "  </thead>\n",
       "  <tbody>\n",
       "    <tr>\n",
       "      <th>0</th>\n",
       "      <td>as680</td>\n",
       "      <td>1</td>\n",
       "      <td>1.0</td>\n",
       "      <td>the english civil war</td>\n",
       "    </tr>\n",
       "    <tr>\n",
       "      <th>1</th>\n",
       "      <td>ns2186</td>\n",
       "      <td>1</td>\n",
       "      <td>4.5</td>\n",
       "      <td>latte and the magic waterstone</td>\n",
       "    </tr>\n",
       "    <tr>\n",
       "      <th>2</th>\n",
       "      <td>hs2381</td>\n",
       "      <td>1</td>\n",
       "      <td>5.0</td>\n",
       "      <td>la diosa coronada</td>\n",
       "    </tr>\n",
       "    <tr>\n",
       "      <th>3</th>\n",
       "      <td>ns3663</td>\n",
       "      <td>1</td>\n",
       "      <td>5.0</td>\n",
       "      <td>frankenstein’s monster’s monster, frankenstein</td>\n",
       "    </tr>\n",
       "    <tr>\n",
       "      <th>4</th>\n",
       "      <td>as9500</td>\n",
       "      <td>1</td>\n",
       "      <td>5.0</td>\n",
       "      <td>kept woman</td>\n",
       "    </tr>\n",
       "  </tbody>\n",
       "</table>\n",
       "</div>"
      ],
      "text/plain": [
       "  movieId  userId  score                                           title\n",
       "0   as680       1    1.0                           the english civil war\n",
       "1  ns2186       1    4.5                  latte and the magic waterstone\n",
       "2  hs2381       1    5.0                               la diosa coronada\n",
       "3  ns3663       1    5.0  frankenstein’s monster’s monster, frankenstein\n",
       "4  as9500       1    5.0                                      kept woman"
      ]
     },
     "execution_count": 22,
     "metadata": {},
     "output_type": "execute_result"
    }
   ],
   "source": [
    "# Load ratings data\n",
    "df_save = pd.read_csv('../data/clean/all_ratings.csv', index_col=0)\n",
    "\n",
    "# promote id as index\n",
    "df_save.set_index('movieId', inplace=True)\n",
    "\n",
    "# Assign a new column name\n",
    "df_save = df_save.assign(title = dfmovie_mini)\n",
    "\n",
    "# Reset index\n",
    "df_save.reset_index(inplace=True)\n",
    "df_save.head()"
   ]
  },
  {
   "cell_type": "code",
   "execution_count": 23,
   "metadata": {},
   "outputs": [],
   "source": [
    "# save complete dataframe to a file all_ratings_with_title.csv\n",
    "df_save.to_csv('../data/clean/all_ratings_with_title.csv')"
   ]
  },
  {
   "cell_type": "markdown",
   "metadata": {},
   "source": [
    "![divider](https://user-images.githubusercontent.com/7065401/52071927-c1cd7100-2562-11e9-908a-dde91ba14e59.png)\n",
    "### Cross validation\n",
    "![divider](https://user-images.githubusercontent.com/7065401/52071927-c1cd7100-2562-11e9-908a-dde91ba14e59.png)"
   ]
  },
  {
   "cell_type": "code",
   "execution_count": null,
   "metadata": {},
   "outputs": [],
   "source": [
    "# model_cv = SVD(n_factors=50)\n",
    "# x = cross_validate(model_cv, data_platform, measures=['RMSE', 'MAE'], cv=2, verbose=True)"
   ]
  }
 ],
 "metadata": {
  "kernelspec": {
   "display_name": "Python 3.10.9 ('venvMLOPS')",
   "language": "python",
   "name": "python3"
  },
  "language_info": {
   "codemirror_mode": {
    "name": "ipython",
    "version": 3
   },
   "file_extension": ".py",
   "mimetype": "text/x-python",
   "name": "python",
   "nbconvert_exporter": "python",
   "pygments_lexer": "ipython3",
   "version": "3.10.9"
  },
  "orig_nbformat": 4,
  "vscode": {
   "interpreter": {
    "hash": "f04a89a6f8ef2a27e26381b4e6b69e6579d0b4af17984d409b8feccd73e07b9d"
   }
  }
 },
 "nbformat": 4,
 "nbformat_minor": 2
}
