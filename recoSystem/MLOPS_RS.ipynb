{
  "cells": [
    {
      "cell_type": "markdown",
      "metadata": {
        "colab_type": "text",
        "id": "view-in-github"
      },
      "source": [
        "<a href=\"https://colab.research.google.com/github/PhDNoe/PI_ML_OPS/blob/main/recoSystem/MLOPS_RS.ipynb\" target=\"_parent\"><img src=\"https://colab.research.google.com/assets/colab-badge.svg\" alt=\"Open In Colab\"/></a>"
      ]
    },
    {
      "cell_type": "markdown",
      "metadata": {
        "id": "lORuTvRLZ5Lo"
      },
      "source": [
        "![divider](https://user-images.githubusercontent.com/7065401/52071927-c1cd7100-2562-11e9-908a-dde91ba14e59.png)\n",
        "\n",
        "# Noelia's ML_OPS Project!  👻👻\n",
        "\n",
        "###  **Notebook: Recomendation System**\n",
        "### This was my First try. My first attempt at creating a recommendation system did not work well due to the highly unbalanced dataset.  😭\n",
        "\n",
        "> The models that were finally used were trained locally (they are an ensemble of 8 models) and are stored in data/models/ensemble2\n",
        "\n",
        "![divider](https://user-images.githubusercontent.com/7065401/52071927-c1cd7100-2562-11e9-908a-dde91ba14e59.png)"
      ]
    },
    {
      "cell_type": "markdown",
      "metadata": {
        "id": "kpNPgDslDLNp"
      },
      "source": [
        "\n",
        "### Google drive mount\n",
        "\n",
        "![divider](https://user-images.githubusercontent.com/7065401/52071927-c1cd7100-2562-11e9-908a-dde91ba14e59.png)"
      ]
    },
    {
      "cell_type": "code",
      "execution_count": null,
      "metadata": {
        "colab": {
          "base_uri": "https://localhost:8080/"
        },
        "id": "nIT0F9qpDKN6",
        "outputId": "db2e49b1-7fe8-4365-dcb0-bb3f9c8a664f"
      },
      "outputs": [
        {
          "name": "stdout",
          "output_type": "stream",
          "text": [
            "Drive already mounted at /content/drive; to attempt to forcibly remount, call drive.mount(\"/content/drive\", force_remount=True).\n"
          ]
        }
      ],
      "source": [
        "from google.colab import drive\n",
        "drive.mount('/content/drive')"
      ]
    },
    {
      "cell_type": "code",
      "execution_count": null,
      "metadata": {
        "colab": {
          "base_uri": "https://localhost:8080/"
        },
        "id": "0UDtzslGDaJg",
        "outputId": "a4990a6c-a762-4437-d01f-e9106606ab47"
      },
      "outputs": [
        {
          "name": "stdout",
          "output_type": "stream",
          "text": [
            "/content/drive/My Drive/DatosParaColab/MLOPS\n",
            "all_ratings.csv              model_platforlessm.pkl\n",
            "all_together_with_score.csv  model_platform.pkl\n"
          ]
        }
      ],
      "source": [
        "%cd /content/drive/My\\ Drive/DatosParaColab/MLOPS\n",
        "%ls"
      ]
    },
    {
      "cell_type": "markdown",
      "metadata": {
        "id": "p0-8NV6haHhj"
      },
      "source": [
        "![divider](https://user-images.githubusercontent.com/7065401/52071927-c1cd7100-2562-11e9-908a-dde91ba14e59.png)\n",
        "\n",
        "### Load all_ratings.csv \n",
        "\n",
        "\n",
        "![divider](https://user-images.githubusercontent.com/7065401/52071927-c1cd7100-2562-11e9-908a-dde91ba14e59.png)"
      ]
    },
    {
      "cell_type": "code",
      "execution_count": null,
      "metadata": {
        "id": "4afjzqExC2-Y"
      },
      "outputs": [],
      "source": [
        "import pandas as pd"
      ]
    },
    {
      "cell_type": "code",
      "execution_count": null,
      "metadata": {
        "colab": {
          "base_uri": "https://localhost:8080/",
          "height": 206
        },
        "id": "6Lz9QybbDRt7",
        "outputId": "ec456187-1947-4581-99cc-78cd54f5f593"
      },
      "outputs": [],
      "source": [
        "rating = pd.read_csv('all_ratings.csv')\n",
        "rating.head()"
      ]
    },
    {
      "cell_type": "markdown",
      "metadata": {
        "id": "kVl-eldFaQ4N"
      },
      "source": [
        "![divider](https://user-images.githubusercontent.com/7065401/52071927-c1cd7100-2562-11e9-908a-dde91ba14e59.png)\n",
        "\n",
        "### We have two options\n",
        "case 1) A movie X on two different platforms will have a different average rating. For instance, movies available on different platforms are treated as completely distinct and independent movies. <br>\n",
        "case 2) Consider that a movie X will have a uniform rating across any platform\n",
        "\n",
        "![divider](https://user-images.githubusercontent.com/7065401/52071927-c1cd7100-2562-11e9-908a-dde91ba14e59.png)\n"
      ]
    },
    {
      "cell_type": "code",
      "execution_count": null,
      "metadata": {
        "id": "o1go47l8DxMR"
      },
      "outputs": [],
      "source": [
        "# rating dataframe --> movies in different platforms are treated like a different movie\n",
        "rating.drop(columns=[\"Unnamed: 0\"], inplace=True)\n",
        "rating.rename(columns={'rating':'score'}, inplace=True)\n",
        "\n",
        "# rating 2 --> movies in different platforms are treated like the same movie (with the same average score)\n",
        "rating2 = rating.copy()\n",
        "rating2['movieId'] = rating2['movieId'].map(lambda x: x.replace(x[0],\"\"))"
      ]
    },
    {
      "cell_type": "code",
      "execution_count": null,
      "metadata": {
        "colab": {
          "base_uri": "https://localhost:8080/",
          "height": 206
        },
        "id": "HmxNjwpcEN8O",
        "outputId": "a2968ff1-76e7-4589-e392-cb19e666065b"
      },
      "outputs": [
        {
          "data": {
            "text/html": [
              "\n",
              "  <div id=\"df-c4fd01dd-018e-45d5-9917-e3bdeb310649\">\n",
              "    <div class=\"colab-df-container\">\n",
              "      <div>\n",
              "<style scoped>\n",
              "    .dataframe tbody tr th:only-of-type {\n",
              "        vertical-align: middle;\n",
              "    }\n",
              "\n",
              "    .dataframe tbody tr th {\n",
              "        vertical-align: top;\n",
              "    }\n",
              "\n",
              "    .dataframe thead th {\n",
              "        text-align: right;\n",
              "    }\n",
              "</style>\n",
              "<table border=\"1\" class=\"dataframe\">\n",
              "  <thead>\n",
              "    <tr style=\"text-align: right;\">\n",
              "      <th></th>\n",
              "      <th>userId</th>\n",
              "      <th>score</th>\n",
              "      <th>timestamp</th>\n",
              "      <th>movieId</th>\n",
              "    </tr>\n",
              "  </thead>\n",
              "  <tbody>\n",
              "    <tr>\n",
              "      <th>0</th>\n",
              "      <td>1</td>\n",
              "      <td>1.0</td>\n",
              "      <td>1425941529</td>\n",
              "      <td>s680</td>\n",
              "    </tr>\n",
              "    <tr>\n",
              "      <th>1</th>\n",
              "      <td>1</td>\n",
              "      <td>4.5</td>\n",
              "      <td>1425942435</td>\n",
              "      <td>s2186</td>\n",
              "    </tr>\n",
              "    <tr>\n",
              "      <th>2</th>\n",
              "      <td>1</td>\n",
              "      <td>5.0</td>\n",
              "      <td>1425941523</td>\n",
              "      <td>s2381</td>\n",
              "    </tr>\n",
              "    <tr>\n",
              "      <th>3</th>\n",
              "      <td>1</td>\n",
              "      <td>5.0</td>\n",
              "      <td>1425941546</td>\n",
              "      <td>s3663</td>\n",
              "    </tr>\n",
              "    <tr>\n",
              "      <th>4</th>\n",
              "      <td>1</td>\n",
              "      <td>5.0</td>\n",
              "      <td>1425941556</td>\n",
              "      <td>s9500</td>\n",
              "    </tr>\n",
              "  </tbody>\n",
              "</table>\n",
              "</div>\n",
              "      <button class=\"colab-df-convert\" onclick=\"convertToInteractive('df-c4fd01dd-018e-45d5-9917-e3bdeb310649')\"\n",
              "              title=\"Convert this dataframe to an interactive table.\"\n",
              "              style=\"display:none;\">\n",
              "        \n",
              "  <svg xmlns=\"http://www.w3.org/2000/svg\" height=\"24px\"viewBox=\"0 0 24 24\"\n",
              "       width=\"24px\">\n",
              "    <path d=\"M0 0h24v24H0V0z\" fill=\"none\"/>\n",
              "    <path d=\"M18.56 5.44l.94 2.06.94-2.06 2.06-.94-2.06-.94-.94-2.06-.94 2.06-2.06.94zm-11 1L8.5 8.5l.94-2.06 2.06-.94-2.06-.94L8.5 2.5l-.94 2.06-2.06.94zm10 10l.94 2.06.94-2.06 2.06-.94-2.06-.94-.94-2.06-.94 2.06-2.06.94z\"/><path d=\"M17.41 7.96l-1.37-1.37c-.4-.4-.92-.59-1.43-.59-.52 0-1.04.2-1.43.59L10.3 9.45l-7.72 7.72c-.78.78-.78 2.05 0 2.83L4 21.41c.39.39.9.59 1.41.59.51 0 1.02-.2 1.41-.59l7.78-7.78 2.81-2.81c.8-.78.8-2.07 0-2.86zM5.41 20L4 18.59l7.72-7.72 1.47 1.35L5.41 20z\"/>\n",
              "  </svg>\n",
              "      </button>\n",
              "      \n",
              "  <style>\n",
              "    .colab-df-container {\n",
              "      display:flex;\n",
              "      flex-wrap:wrap;\n",
              "      gap: 12px;\n",
              "    }\n",
              "\n",
              "    .colab-df-convert {\n",
              "      background-color: #E8F0FE;\n",
              "      border: none;\n",
              "      border-radius: 50%;\n",
              "      cursor: pointer;\n",
              "      display: none;\n",
              "      fill: #1967D2;\n",
              "      height: 32px;\n",
              "      padding: 0 0 0 0;\n",
              "      width: 32px;\n",
              "    }\n",
              "\n",
              "    .colab-df-convert:hover {\n",
              "      background-color: #E2EBFA;\n",
              "      box-shadow: 0px 1px 2px rgba(60, 64, 67, 0.3), 0px 1px 3px 1px rgba(60, 64, 67, 0.15);\n",
              "      fill: #174EA6;\n",
              "    }\n",
              "\n",
              "    [theme=dark] .colab-df-convert {\n",
              "      background-color: #3B4455;\n",
              "      fill: #D2E3FC;\n",
              "    }\n",
              "\n",
              "    [theme=dark] .colab-df-convert:hover {\n",
              "      background-color: #434B5C;\n",
              "      box-shadow: 0px 1px 3px 1px rgba(0, 0, 0, 0.15);\n",
              "      filter: drop-shadow(0px 1px 2px rgba(0, 0, 0, 0.3));\n",
              "      fill: #FFFFFF;\n",
              "    }\n",
              "  </style>\n",
              "\n",
              "      <script>\n",
              "        const buttonEl =\n",
              "          document.querySelector('#df-c4fd01dd-018e-45d5-9917-e3bdeb310649 button.colab-df-convert');\n",
              "        buttonEl.style.display =\n",
              "          google.colab.kernel.accessAllowed ? 'block' : 'none';\n",
              "\n",
              "        async function convertToInteractive(key) {\n",
              "          const element = document.querySelector('#df-c4fd01dd-018e-45d5-9917-e3bdeb310649');\n",
              "          const dataTable =\n",
              "            await google.colab.kernel.invokeFunction('convertToInteractive',\n",
              "                                                     [key], {});\n",
              "          if (!dataTable) return;\n",
              "\n",
              "          const docLinkHtml = 'Like what you see? Visit the ' +\n",
              "            '<a target=\"_blank\" href=https://colab.research.google.com/notebooks/data_table.ipynb>data table notebook</a>'\n",
              "            + ' to learn more about interactive tables.';\n",
              "          element.innerHTML = '';\n",
              "          dataTable['output_type'] = 'display_data';\n",
              "          await google.colab.output.renderOutput(dataTable, element);\n",
              "          const docLink = document.createElement('div');\n",
              "          docLink.innerHTML = docLinkHtml;\n",
              "          element.appendChild(docLink);\n",
              "        }\n",
              "      </script>\n",
              "    </div>\n",
              "  </div>\n",
              "  "
            ],
            "text/plain": [
              "   userId  score   timestamp movieId\n",
              "0       1    1.0  1425941529    s680\n",
              "1       1    4.5  1425942435   s2186\n",
              "2       1    5.0  1425941523   s2381\n",
              "3       1    5.0  1425941546   s3663\n",
              "4       1    5.0  1425941556   s9500"
            ]
          },
          "execution_count": 7,
          "metadata": {},
          "output_type": "execute_result"
        }
      ],
      "source": [
        "rating2.head()"
      ]
    },
    {
      "cell_type": "markdown",
      "metadata": {
        "id": "9hd7RCsPcFhX"
      },
      "source": [
        "\n",
        "![divider](https://user-images.githubusercontent.com/7065401/52071927-c1cd7100-2562-11e9-908a-dde91ba14e59.png)\n",
        "### Install scikit-surprise\n",
        "\n",
        "\n",
        "![divider](https://user-images.githubusercontent.com/7065401/52071927-c1cd7100-2562-11e9-908a-dde91ba14e59.png)"
      ]
    },
    {
      "cell_type": "code",
      "execution_count": null,
      "metadata": {
        "colab": {
          "base_uri": "https://localhost:8080/"
        },
        "id": "mreKZNC8Ed3U",
        "outputId": "9f0359a1-9f57-4905-db46-0710450e396b"
      },
      "outputs": [
        {
          "name": "stdout",
          "output_type": "stream",
          "text": [
            "Looking in indexes: https://pypi.org/simple, https://us-python.pkg.dev/colab-wheels/public/simple/\n",
            "Requirement already satisfied: scikit-surprise in /usr/local/lib/python3.9/dist-packages (1.1.3)\n",
            "Requirement already satisfied: scipy>=1.3.2 in /usr/local/lib/python3.9/dist-packages (from scikit-surprise) (1.10.1)\n",
            "Requirement already satisfied: joblib>=1.0.0 in /usr/local/lib/python3.9/dist-packages (from scikit-surprise) (1.1.1)\n",
            "Requirement already satisfied: numpy>=1.17.3 in /usr/local/lib/python3.9/dist-packages (from scikit-surprise) (1.22.4)\n"
          ]
        }
      ],
      "source": [
        "!pip install scikit-surprise"
      ]
    },
    {
      "cell_type": "markdown",
      "metadata": {
        "id": "CPdChhp0cJtx"
      },
      "source": [
        "![divider](https://user-images.githubusercontent.com/7065401/52071927-c1cd7100-2562-11e9-908a-dde91ba14e59.png)\n",
        "\n",
        "### Load  dataset. Case 1\n",
        "\n",
        "![divider](https://user-images.githubusercontent.com/7065401/52071927-c1cd7100-2562-11e9-908a-dde91ba14e59.png)"
      ]
    },
    {
      "cell_type": "code",
      "execution_count": null,
      "metadata": {
        "id": "EDlroHFaCwgx"
      },
      "outputs": [],
      "source": [
        "\n",
        "from surprise import Dataset, Reader\n",
        "from surprise import SVD\n",
        "from surprise.model_selection import train_test_split\n",
        "from surprise.model_selection import cross_validate\n",
        "\n",
        "# Load Dataset rating data\n",
        "reader = Reader(rating_scale=(0, 5))\n",
        "data_platform = Dataset.load_from_df(rating[['userId', 'movieId', 'score']], reader)\n",
        "\n",
        "\n"
      ]
    },
    {
      "cell_type": "markdown",
      "metadata": {
        "id": "xe9x2kK5dRWr"
      },
      "source": [
        "![divider](https://user-images.githubusercontent.com/7065401/52071927-c1cd7100-2562-11e9-908a-dde91ba14e59.png)\n",
        "### Train on rating dataframe (case 1 )\n",
        "\n",
        "![divider](https://user-images.githubusercontent.com/7065401/52071927-c1cd7100-2562-11e9-908a-dde91ba14e59.png)"
      ]
    },
    {
      "cell_type": "code",
      "execution_count": null,
      "metadata": {
        "id": "pukVrF_OkaJN"
      },
      "outputs": [],
      "source": [
        "train_set_p, test_set_p = train_test_split(data_platform, test_size = 0.25)\n"
      ]
    },
    {
      "cell_type": "code",
      "execution_count": null,
      "metadata": {
        "colab": {
          "base_uri": "https://localhost:8080/"
        },
        "id": "9_F4u7A-kesp",
        "outputId": "9aa400ea-76a1-46ed-df40-42aea1286aba"
      },
      "outputs": [
        {
          "data": {
            "text/plain": [
              "<surprise.prediction_algorithms.matrix_factorization.SVD at 0x7f056bb50fd0>"
            ]
          },
          "execution_count": 12,
          "metadata": {},
          "output_type": "execute_result"
        }
      ],
      "source": [
        "model_platform = SVD(n_factors=50, n_epochs=20, lr_all=0.005, reg_all=0.4)\n",
        "model_platform.fit(train_set_p)"
      ]
    },
    {
      "cell_type": "markdown",
      "metadata": {
        "id": "RSGxtGs3d2Eu"
      },
      "source": [
        "---\n",
        "### Predict\n",
        "\n",
        "---"
      ]
    },
    {
      "cell_type": "code",
      "execution_count": null,
      "metadata": {
        "colab": {
          "base_uri": "https://localhost:8080/"
        },
        "id": "-DhpK1DCmULW",
        "outputId": "9c5bf4c2-f70f-4c26-9d22-bf481b743c35"
      },
      "outputs": [
        {
          "data": {
            "text/plain": [
              "3.627841631886107"
            ]
          },
          "execution_count": 13,
          "metadata": {},
          "output_type": "execute_result"
        }
      ],
      "source": [
        "userId=124378\n",
        "movieId = 'hs2381'\n",
        "predicted_score_ss = model_platform.predict(userId, movieId).est\n",
        "\n",
        "predicted_score_ss"
      ]
    },
    {
      "cell_type": "markdown",
      "metadata": {
        "id": "NL_nu-Jid5uN"
      },
      "source": [
        "---\n",
        "### Save model\n",
        "\n",
        "----"
      ]
    },
    {
      "cell_type": "code",
      "execution_count": null,
      "metadata": {
        "id": "pzrjZjlSoeHD"
      },
      "outputs": [],
      "source": [
        "import pickle\n",
        "\n",
        "with open('model_platform.pkl', 'wb') as f:\n",
        "    pickle.dump(model_platform, f)"
      ]
    },
    {
      "cell_type": "markdown",
      "metadata": {
        "id": "R7HqRS9Kd894"
      },
      "source": [
        "---\n",
        "### rmse across all test set\n",
        "\n",
        "---"
      ]
    },
    {
      "cell_type": "code",
      "execution_count": null,
      "metadata": {
        "colab": {
          "base_uri": "https://localhost:8080/"
        },
        "id": "-jb-wNW2oPg4",
        "outputId": "b1996bc0-0076-4f2e-9027-f135a362fc22"
      },
      "outputs": [
        {
          "name": "stdout",
          "output_type": "stream",
          "text": [
            "RMSE: 0.9701\n"
          ]
        },
        {
          "data": {
            "text/plain": [
              "0.9700930783606576"
            ]
          },
          "execution_count": 15,
          "metadata": {},
          "output_type": "execute_result"
        }
      ],
      "source": [
        "from surprise import accuracy\n",
        "# Calcular las predicciones sobre los datos de prueba\n",
        "predictions = model_platform.test(test_set_p)\n",
        "\n",
        "# Calcular la precisión del modelo\n",
        "accuracy.rmse(predictions)"
      ]
    },
    {
      "cell_type": "markdown",
      "metadata": {
        "id": "VbtRRio9eCHk"
      },
      "source": [
        "---\n",
        "### If i need to load model -->\n",
        "\n",
        "---"
      ]
    },
    {
      "cell_type": "code",
      "execution_count": null,
      "metadata": {
        "id": "rIqNqcb8pTrY"
      },
      "outputs": [],
      "source": [
        "import pickle\n",
        "\n",
        "# Cargar el modelo desde el archivo\n",
        "with open('model_platform.pkl', 'rb') as f:\n",
        "    model_platform = pickle.load(f)"
      ]
    },
    {
      "cell_type": "markdown",
      "metadata": {
        "id": "bpCNXL46eWDC"
      },
      "source": [
        "---\n",
        "### Cross validation on 2 folds (it takes too long)\n",
        "\n",
        "---"
      ]
    },
    {
      "cell_type": "code",
      "execution_count": null,
      "metadata": {
        "id": "_D6FC7yeQrSy"
      },
      "outputs": [],
      "source": [
        "model_cv = SVD(n_factors=50)\n",
        "x = cross_validate(model_cv, data_platform, measures=['RMSE', 'MAE'], cv=2, verbose=True)"
      ]
    },
    {
      "cell_type": "markdown",
      "metadata": {
        "id": "XVage3k9ccVT"
      },
      "source": [
        "![divider](https://user-images.githubusercontent.com/7065401/52071927-c1cd7100-2562-11e9-908a-dde91ba14e59.png)\n",
        "\n",
        "### Import garbage collector \n",
        "\n",
        "![divider](https://user-images.githubusercontent.com/7065401/52071927-c1cd7100-2562-11e9-908a-dde91ba14e59.png)"
      ]
    },
    {
      "cell_type": "code",
      "execution_count": null,
      "metadata": {
        "id": "0GOFnxSEOU5K"
      },
      "outputs": [],
      "source": [
        "import gc\n"
      ]
    },
    {
      "cell_type": "code",
      "execution_count": null,
      "metadata": {
        "colab": {
          "base_uri": "https://localhost:8080/"
        },
        "id": "xrT52xDMPGh9",
        "outputId": "74022844-67c0-442a-a392-3ff63ff5ad1b"
      },
      "outputs": [
        {
          "data": {
            "text/plain": [
              "0"
            ]
          },
          "execution_count": 19,
          "metadata": {},
          "output_type": "execute_result"
        }
      ],
      "source": [
        "gc.collect()"
      ]
    },
    {
      "cell_type": "markdown",
      "metadata": {
        "id": "ppGfniMfczN1"
      },
      "source": [
        "![divider](https://user-images.githubusercontent.com/7065401/52071927-c1cd7100-2562-11e9-908a-dde91ba14e59.png)\n",
        "### Load dataset. Case 2\n",
        "\n",
        "![divider](https://user-images.githubusercontent.com/7065401/52071927-c1cd7100-2562-11e9-908a-dde91ba14e59.png)"
      ]
    },
    {
      "cell_type": "code",
      "execution_count": null,
      "metadata": {
        "id": "ufki5eheMGb9"
      },
      "outputs": [],
      "source": [
        "data_platformless = Dataset.load_from_df(rating2[['userId', 'movieId', 'score']], reader)\n"
      ]
    },
    {
      "cell_type": "code",
      "execution_count": null,
      "metadata": {
        "id": "YZLWKQw8MsPS"
      },
      "outputs": [],
      "source": [
        "train_set_pss, test_set_pss = train_test_split(data_platformless, test_size = 0.25)\n",
        "model_platformless = SVD(n_factors=50, n_epochs=20, lr_all=0.005, reg_all=0.4)\n"
      ]
    },
    {
      "cell_type": "code",
      "execution_count": null,
      "metadata": {
        "colab": {
          "base_uri": "https://localhost:8080/"
        },
        "id": "R_lMqCYEMuWe",
        "outputId": "c94fcd1b-9f8b-482b-f500-039295970caf"
      },
      "outputs": [
        {
          "data": {
            "text/plain": [
              "<surprise.prediction_algorithms.matrix_factorization.SVD at 0x7f6eb20d85b0>"
            ]
          },
          "execution_count": 12,
          "metadata": {},
          "output_type": "execute_result"
        }
      ],
      "source": [
        "model_platformless.fit(train_set_pss)"
      ]
    },
    {
      "cell_type": "markdown",
      "metadata": {
        "id": "tOwmq9ggeJ-o"
      },
      "source": [
        "---\n",
        "### Prediction\n",
        "\n",
        "---"
      ]
    },
    {
      "cell_type": "code",
      "execution_count": null,
      "metadata": {
        "colab": {
          "base_uri": "https://localhost:8080/"
        },
        "id": "q_-0D1q7Prm5",
        "outputId": "e8f4c0ac-d8f0-42d9-c888-b45d48181bc9"
      },
      "outputs": [
        {
          "data": {
            "text/plain": [
              "3.62119327658048"
            ]
          },
          "execution_count": 13,
          "metadata": {},
          "output_type": "execute_result"
        }
      ],
      "source": [
        "userId=124378\n",
        "movieId = 's2381'\n",
        "predicted_score_ss = model_platformless.predict(userId, movieId).est\n",
        "\n",
        "predicted_score_ss"
      ]
    },
    {
      "cell_type": "markdown",
      "metadata": {
        "id": "lHvuCyDzenPL"
      },
      "source": [
        "---\n",
        "### Cross validation across 2 folds\n",
        "\n",
        "---"
      ]
    },
    {
      "cell_type": "code",
      "execution_count": null,
      "metadata": {
        "colab": {
          "base_uri": "https://localhost:8080/"
        },
        "id": "RiAszsIqhb_O",
        "outputId": "1bbd5813-7354-454e-ba24-c63556ded991"
      },
      "outputs": [
        {
          "name": "stdout",
          "output_type": "stream",
          "text": [
            "Evaluating RMSE, MAE of algorithm SVD on 2 split(s).\n",
            "\n",
            "                  Fold 1  Fold 2  Mean    Std     \n",
            "RMSE (testset)    0.9920  0.9917  0.9918  0.0002  \n",
            "MAE (testset)     0.7698  0.7698  0.7698  0.0000  \n",
            "Fit time          106.39  120.31  113.35  6.96    \n",
            "Test time         113.99  131.03  122.51  8.52    \n"
          ]
        }
      ],
      "source": [
        "model_cv2 = SVD(n_factors=50)\n",
        "x2 = cross_validate(model_cv2, data_platformless, measures=['RMSE', 'MAE'], cv=2, verbose=True)"
      ]
    },
    {
      "cell_type": "markdown",
      "metadata": {
        "id": "Z6FFcbQtpxeF"
      },
      "source": [
        "----\n",
        "\n",
        "### Save model\n",
        "\n",
        "---"
      ]
    },
    {
      "cell_type": "code",
      "execution_count": null,
      "metadata": {
        "id": "faHM9So1phuU"
      },
      "outputs": [],
      "source": [
        "import pickle\n",
        "\n",
        "with open('model_platforlessm.pkl', 'wb') as f:\n",
        "    pickle.dump(model_platformless, f)"
      ]
    },
    {
      "cell_type": "markdown",
      "metadata": {
        "id": "BsD5c-nie01n"
      },
      "source": [
        "---\n",
        "### Predictions across the entire test dataset\n",
        "\n",
        "---"
      ]
    },
    {
      "cell_type": "code",
      "execution_count": null,
      "metadata": {
        "colab": {
          "base_uri": "https://localhost:8080/"
        },
        "id": "Je_9nnhepobO",
        "outputId": "b8a9d508-96db-49ed-9a6b-3e924d53850f"
      },
      "outputs": [
        {
          "name": "stdout",
          "output_type": "stream",
          "text": [
            "RMSE: 0.9709\n"
          ]
        },
        {
          "data": {
            "text/plain": [
              "0.9709165599562262"
            ]
          },
          "execution_count": 17,
          "metadata": {},
          "output_type": "execute_result"
        }
      ],
      "source": [
        "\n",
        "predictions_ss = model_platformless.test(test_set_pss)\n",
        "\n",
        "# Calcular la precisión del modelo\n",
        "accuracy.rmse(predictions_ss)"
      ]
    },
    {
      "cell_type": "markdown",
      "metadata": {
        "id": "B1mxjqOQe7d-"
      },
      "source": [
        "---\n",
        "### Load the model\n",
        "\n",
        "---"
      ]
    },
    {
      "cell_type": "code",
      "execution_count": null,
      "metadata": {
        "id": "sKhKoW7Vp5CP"
      },
      "outputs": [],
      "source": [
        "# Cargar el modelo desde el archivo\n",
        "with open('model_platformless.pkl', 'rb') as f:\n",
        "    model_platformless = pickle.load(f)"
      ]
    },
    {
      "cell_type": "markdown",
      "metadata": {
        "id": "1u_A5bU7sX46"
      },
      "source": [
        "---\n"
      ]
    }
  ],
  "metadata": {
    "colab": {
      "authorship_tag": "ABX9TyOqaZrA/ejQwHQvSFu/kgzC",
      "include_colab_link": true,
      "provenance": []
    },
    "kernelspec": {
      "display_name": "Python 3.10.7 64-bit",
      "language": "python",
      "name": "python3"
    },
    "language_info": {
      "codemirror_mode": {
        "name": "ipython",
        "version": 3
      },
      "file_extension": ".py",
      "mimetype": "text/x-python",
      "name": "python",
      "nbconvert_exporter": "python",
      "pygments_lexer": "ipython3",
      "version": "3.10.7"
    },
    "vscode": {
      "interpreter": {
        "hash": "91feae2c62c7f7dd8c694bfef93388a2801ca0d10da16ba22787f425e87199c5"
      }
    }
  },
  "nbformat": 4,
  "nbformat_minor": 0
}
