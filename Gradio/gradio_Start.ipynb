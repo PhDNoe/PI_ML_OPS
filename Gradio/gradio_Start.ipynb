{
 "cells": [
  {
   "cell_type": "markdown",
   "metadata": {},
   "source": [
    "![divider](https://user-images.githubusercontent.com/7065401/52071927-c1cd7100-2562-11e9-908a-dde91ba14e59.png)\n",
    "\n",
    "## Noelia's ML_OPS Project!  👻👻\n",
    "\n",
    "###  Notebook: Reco System - Gradio\n",
    "\n",
    "![divider](https://user-images.githubusercontent.com/7065401/52071927-c1cd7100-2562-11e9-908a-dde91ba14e59.png)\n",
    "\n",
    "### Import zone and utils function.\n",
    "\n",
    "\n",
    "![divider](https://user-images.githubusercontent.com/7065401/52071927-c1cd7100-2562-11e9-908a-dde91ba14e59.png)"
   ]
  },
  {
   "cell_type": "code",
   "execution_count": 1,
   "metadata": {},
   "outputs": [],
   "source": [
    "import pickle\n",
    "import os\n",
    "import pandas as pd\n",
    "import numpy as np\n",
    "\n",
    "\n",
    "def load_models(mypath):\n",
    "\n",
    "    count = 0\n",
    "    # How many files?\n",
    "    for path in os.listdir(mypath):\n",
    "        if os.path.isfile(os.path.join(mypath, path)):\n",
    "            count += 1\n",
    "\n",
    "    models = []\n",
    "    for i in range(0,count):\n",
    "        with open(mypath+f\"m{i}.pkl\", \"rb\") as f:\n",
    "            models.append(pickle.load(f))\n",
    "            \n",
    "    return models, count\n",
    "\n",
    "\n",
    "def return_movie_Id(df, movie_name):\n",
    "    mask = df['title'] == movie_name.strip().lower()\n",
    "    res = df.loc[mask]\n",
    "    if not res.empty:\n",
    "        res = res['movieId'].unique().tolist()\n",
    "    else:\n",
    "        res = None\n",
    "    return res\n",
    "    \n",
    "\n",
    "def make_ensemble_predictions(models, count, userId, movieId):\n",
    "    preds = []\n",
    "    for i in range(count):\n",
    "        p1 = models[i].predict(userId, movieId).est\n",
    "        preds.append(p1)\n",
    "    \n",
    "\n",
    "    preds = np.array(preds)\n",
    "    votes = preds>2.5\n",
    "    nvotes = np.count_nonzero(votes)\n",
    "    if nvotes>5:\n",
    "        return \"Recomended Movie\"\n",
    "    else:\n",
    "        return \"not recommended Movie\"\n",
    "\n",
    "# userId = 12840, movieId = 'as230'  true_rating = 4.5  --> recommended\n",
    "# userId = 16285, movieId = as2269 true_rating = 2.5  --> not recommended"
   ]
  },
  {
   "cell_type": "code",
   "execution_count": 2,
   "metadata": {},
   "outputs": [
    {
     "data": {
      "text/html": [
       "<div>\n",
       "<style scoped>\n",
       "    .dataframe tbody tr th:only-of-type {\n",
       "        vertical-align: middle;\n",
       "    }\n",
       "\n",
       "    .dataframe tbody tr th {\n",
       "        vertical-align: top;\n",
       "    }\n",
       "\n",
       "    .dataframe thead th {\n",
       "        text-align: right;\n",
       "    }\n",
       "</style>\n",
       "<table border=\"1\" class=\"dataframe\">\n",
       "  <thead>\n",
       "    <tr style=\"text-align: right;\">\n",
       "      <th></th>\n",
       "      <th>movieId</th>\n",
       "      <th>userId</th>\n",
       "      <th>score</th>\n",
       "      <th>title</th>\n",
       "    </tr>\n",
       "  </thead>\n",
       "  <tbody>\n",
       "    <tr>\n",
       "      <th>0</th>\n",
       "      <td>as680</td>\n",
       "      <td>1</td>\n",
       "      <td>1.0</td>\n",
       "      <td>the english civil war</td>\n",
       "    </tr>\n",
       "    <tr>\n",
       "      <th>1</th>\n",
       "      <td>ns2186</td>\n",
       "      <td>1</td>\n",
       "      <td>4.5</td>\n",
       "      <td>latte and the magic waterstone</td>\n",
       "    </tr>\n",
       "    <tr>\n",
       "      <th>2</th>\n",
       "      <td>hs2381</td>\n",
       "      <td>1</td>\n",
       "      <td>5.0</td>\n",
       "      <td>la diosa coronada</td>\n",
       "    </tr>\n",
       "    <tr>\n",
       "      <th>3</th>\n",
       "      <td>ns3663</td>\n",
       "      <td>1</td>\n",
       "      <td>5.0</td>\n",
       "      <td>frankenstein’s monster’s monster, frankenstein</td>\n",
       "    </tr>\n",
       "    <tr>\n",
       "      <th>4</th>\n",
       "      <td>as9500</td>\n",
       "      <td>1</td>\n",
       "      <td>5.0</td>\n",
       "      <td>kept woman</td>\n",
       "    </tr>\n",
       "  </tbody>\n",
       "</table>\n",
       "</div>"
      ],
      "text/plain": [
       "  movieId  userId  score                                           title\n",
       "0   as680       1    1.0                           the english civil war\n",
       "1  ns2186       1    4.5                  latte and the magic waterstone\n",
       "2  hs2381       1    5.0                               la diosa coronada\n",
       "3  ns3663       1    5.0  frankenstein’s monster’s monster, frankenstein\n",
       "4  as9500       1    5.0                                      kept woman"
      ]
     },
     "execution_count": 2,
     "metadata": {},
     "output_type": "execute_result"
    }
   ],
   "source": [
    "df = pd.read_csv('../data/clean/all_ratings_with_title.csv', index_col=0)\n",
    "df.head()"
   ]
  },
  {
   "cell_type": "markdown",
   "metadata": {},
   "source": [
    "![divider](https://user-images.githubusercontent.com/7065401/52071927-c1cd7100-2562-11e9-908a-dde91ba14e59.png)\n",
    "### Problem: several movies with same name\n",
    "\n",
    "![divider](https://user-images.githubusercontent.com/7065401/52071927-c1cd7100-2562-11e9-908a-dde91ba14e59.png)"
   ]
  },
  {
   "cell_type": "code",
   "execution_count": 3,
   "metadata": {},
   "outputs": [
    {
     "data": {
      "text/plain": [
       "array(['ds552', 'ns7565', 'hs2756'], dtype=object)"
      ]
     },
     "execution_count": 3,
     "metadata": {},
     "output_type": "execute_result"
    }
   ],
   "source": [
    "mask = df['title']=='national treasure'\n",
    "df.loc[mask]['movieId'].unique()"
   ]
  },
  {
   "cell_type": "code",
   "execution_count": 4,
   "metadata": {},
   "outputs": [
    {
     "data": {
      "text/plain": [
       "['ds552', 'ns7565', 'hs2756']"
      ]
     },
     "execution_count": 4,
     "metadata": {},
     "output_type": "execute_result"
    }
   ],
   "source": [
    "return_movie_Id(df, 'national treasure')"
   ]
  },
  {
   "cell_type": "code",
   "execution_count": 5,
   "metadata": {},
   "outputs": [
    {
     "data": {
      "text/plain": [
       "['as7565']"
      ]
     },
     "execution_count": 5,
     "metadata": {},
     "output_type": "execute_result"
    }
   ],
   "source": [
    "return_movie_Id(df, 'nicole')"
   ]
  },
  {
   "cell_type": "markdown",
   "metadata": {},
   "source": [
    "![divider](https://user-images.githubusercontent.com/7065401/52071927-c1cd7100-2562-11e9-908a-dde91ba14e59.png)\n",
    "### Gradio Init\n",
    "\n",
    "![divider](https://user-images.githubusercontent.com/7065401/52071927-c1cd7100-2562-11e9-908a-dde91ba14e59.png)"
   ]
  },
  {
   "cell_type": "code",
   "execution_count": 6,
   "metadata": {},
   "outputs": [
    {
     "name": "stderr",
     "output_type": "stream",
     "text": [
      "c:\\Users\\kuens\\miniconda3\\envs\\venvMLOPS\\lib\\site-packages\\tqdm\\auto.py:22: TqdmWarning: IProgress not found. Please update jupyter and ipywidgets. See https://ipywidgets.readthedocs.io/en/stable/user_install.html\n",
      "  from .autonotebook import tqdm as notebook_tqdm\n"
     ]
    }
   ],
   "source": [
    "import pickle\n",
    "import numpy as np\n",
    "import gradio as gr\n",
    "\n",
    "mypath = '../data/models/ensamble1/'\n",
    "models, count = load_models(mypath)\n",
    "\n",
    "mypath = '../data/clean/'\n",
    "\n",
    "\n",
    "\n",
    "def make_predictions( userId, movieName):\n",
    "    \n",
    "    movieId = return_movie_Id(df, movieName)\n",
    "    print(\"movieId (inside make predictions)--> \", movieId)\n",
    "    print(\"movieName (inside make predictions)--> \", movieName)\n",
    "    pred = \"\"\n",
    "    if movieId!=None:\n",
    "        if len(movieId)>=1:\n",
    "            for i in range(len(movieId)):\n",
    "                pred += \"recomendation number \"+str(i+1)+\" --> \"+make_ensemble_predictions(models, count, userId, movieId[i])+\"\\n\"\n",
    "        \n",
    "    else:\n",
    "        pred = \"The movie doesnt exist\"\n",
    "    return pred\n",
    "\n",
    "\n",
    "\n",
    "# userId=12840,score=4.5, movieId=as230"
   ]
  },
  {
   "cell_type": "markdown",
   "metadata": {},
   "source": [
    "![divider](https://user-images.githubusercontent.com/7065401/52071927-c1cd7100-2562-11e9-908a-dde91ba14e59.png)\n",
    "### Gradio app\n",
    "\n",
    "![divider](https://user-images.githubusercontent.com/7065401/52071927-c1cd7100-2562-11e9-908a-dde91ba14e59.png)"
   ]
  },
  {
   "cell_type": "code",
   "execution_count": null,
   "metadata": {},
   "outputs": [],
   "source": [
    "#Create the input component for Gradio since we are expecting 4 inputs\n",
    "\n",
    "userId_input = gr.Number(label = \"Enter the userId\")\n",
    "# employment_input = gr.Number(label= \"Enter Employement Status {1:For Employed, 2: For Unemployed}\")\n",
    "move_input = gr.Textbox(label = \"Enter the movie\")\n",
    "# account_input = gr.Number(label = \"Enter your account Balance:\")\n",
    "# We create the output\n",
    "output = gr.Textbox()\n",
    "\n",
    "\n",
    "app = gr.Interface(fn = make_predictions, inputs=[userId_input, move_input], outputs=output)\n",
    "app.launch()"
   ]
  },
  {
   "cell_type": "markdown",
   "metadata": {},
   "source": [
    "---\n",
    "### Some batch test\n",
    "\n",
    "---"
   ]
  },
  {
   "cell_type": "code",
   "execution_count": null,
   "metadata": {},
   "outputs": [],
   "source": [
    "option1 = {\n",
    "    'userId':66575,\n",
    "    'title': 'iliza shlesinger: confirmed kills',\n",
    "    'movieId':'ns5785',\n",
    "    'score':1.5\n",
    "}\n",
    "\n",
    "option2= {\n",
    "    'userId':258545,\n",
    "    'title':'spongebob squarepants',\n",
    "    'movieId':'as922',\n",
    "    'score':0.5\n",
    "}\n",
    "\n",
    "option3= {\n",
    "    'userId':118361,\n",
    "    'title':'nasha (kannada)',\n",
    "    'movieId':'as8025',\n",
    "    'score':3.5\n",
    "}\n",
    "\n",
    "option4= {\n",
    "    'userId':7793,\n",
    "    'title':'men in black ii',\n",
    "    'movieId':'ns7444',\n",
    "    'score':5.0\n",
    "}"
   ]
  },
  {
   "cell_type": "code",
   "execution_count": 10,
   "metadata": {},
   "outputs": [
    {
     "data": {
      "text/html": [
       "<div>\n",
       "<style scoped>\n",
       "    .dataframe tbody tr th:only-of-type {\n",
       "        vertical-align: middle;\n",
       "    }\n",
       "\n",
       "    .dataframe tbody tr th {\n",
       "        vertical-align: top;\n",
       "    }\n",
       "\n",
       "    .dataframe thead th {\n",
       "        text-align: right;\n",
       "    }\n",
       "</style>\n",
       "<table border=\"1\" class=\"dataframe\">\n",
       "  <thead>\n",
       "    <tr style=\"text-align: right;\">\n",
       "      <th></th>\n",
       "      <th>movieId</th>\n",
       "      <th>userId</th>\n",
       "      <th>score</th>\n",
       "      <th>title</th>\n",
       "    </tr>\n",
       "  </thead>\n",
       "  <tbody>\n",
       "    <tr>\n",
       "      <th>22355</th>\n",
       "      <td>ns7444</td>\n",
       "      <td>253</td>\n",
       "      <td>3.0</td>\n",
       "      <td>men in black ii</td>\n",
       "    </tr>\n",
       "    <tr>\n",
       "      <th>46925</th>\n",
       "      <td>ns7444</td>\n",
       "      <td>483</td>\n",
       "      <td>1.0</td>\n",
       "      <td>men in black ii</td>\n",
       "    </tr>\n",
       "    <tr>\n",
       "      <th>92898</th>\n",
       "      <td>ns7444</td>\n",
       "      <td>930</td>\n",
       "      <td>4.5</td>\n",
       "      <td>men in black ii</td>\n",
       "    </tr>\n",
       "    <tr>\n",
       "      <th>93269</th>\n",
       "      <td>ns7444</td>\n",
       "      <td>931</td>\n",
       "      <td>3.0</td>\n",
       "      <td>men in black ii</td>\n",
       "    </tr>\n",
       "    <tr>\n",
       "      <th>97194</th>\n",
       "      <td>ns7444</td>\n",
       "      <td>978</td>\n",
       "      <td>2.5</td>\n",
       "      <td>men in black ii</td>\n",
       "    </tr>\n",
       "    <tr>\n",
       "      <th>...</th>\n",
       "      <td>...</td>\n",
       "      <td>...</td>\n",
       "      <td>...</td>\n",
       "      <td>...</td>\n",
       "    </tr>\n",
       "    <tr>\n",
       "      <th>10978708</th>\n",
       "      <td>ns7444</td>\n",
       "      <td>123925</td>\n",
       "      <td>5.0</td>\n",
       "      <td>men in black ii</td>\n",
       "    </tr>\n",
       "    <tr>\n",
       "      <th>10994987</th>\n",
       "      <td>ns7444</td>\n",
       "      <td>124040</td>\n",
       "      <td>2.0</td>\n",
       "      <td>men in black ii</td>\n",
       "    </tr>\n",
       "    <tr>\n",
       "      <th>11008005</th>\n",
       "      <td>ns7444</td>\n",
       "      <td>124162</td>\n",
       "      <td>4.5</td>\n",
       "      <td>men in black ii</td>\n",
       "    </tr>\n",
       "    <tr>\n",
       "      <th>11015588</th>\n",
       "      <td>ns7444</td>\n",
       "      <td>124261</td>\n",
       "      <td>4.0</td>\n",
       "      <td>men in black ii</td>\n",
       "    </tr>\n",
       "    <tr>\n",
       "      <th>11018015</th>\n",
       "      <td>ns7444</td>\n",
       "      <td>124287</td>\n",
       "      <td>3.0</td>\n",
       "      <td>men in black ii</td>\n",
       "    </tr>\n",
       "  </tbody>\n",
       "</table>\n",
       "<p>468 rows × 4 columns</p>\n",
       "</div>"
      ],
      "text/plain": [
       "         movieId  userId  score            title\n",
       "22355     ns7444     253    3.0  men in black ii\n",
       "46925     ns7444     483    1.0  men in black ii\n",
       "92898     ns7444     930    4.5  men in black ii\n",
       "93269     ns7444     931    3.0  men in black ii\n",
       "97194     ns7444     978    2.5  men in black ii\n",
       "...          ...     ...    ...              ...\n",
       "10978708  ns7444  123925    5.0  men in black ii\n",
       "10994987  ns7444  124040    2.0  men in black ii\n",
       "11008005  ns7444  124162    4.5  men in black ii\n",
       "11015588  ns7444  124261    4.0  men in black ii\n",
       "11018015  ns7444  124287    3.0  men in black ii\n",
       "\n",
       "[468 rows x 4 columns]"
      ]
     },
     "execution_count": 10,
     "metadata": {},
     "output_type": "execute_result"
    }
   ],
   "source": [
    "df.loc[df['movieId']=='ns7444']"
   ]
  }
 ],
 "metadata": {
  "kernelspec": {
   "display_name": "Python 3.10.9 ('venvMLOPS')",
   "language": "python",
   "name": "python3"
  },
  "language_info": {
   "codemirror_mode": {
    "name": "ipython",
    "version": 3
   },
   "file_extension": ".py",
   "mimetype": "text/x-python",
   "name": "python",
   "nbconvert_exporter": "python",
   "pygments_lexer": "ipython3",
   "version": "3.10.9"
  },
  "orig_nbformat": 4,
  "vscode": {
   "interpreter": {
    "hash": "f04a89a6f8ef2a27e26381b4e6b69e6579d0b4af17984d409b8feccd73e07b9d"
   }
  }
 },
 "nbformat": 4,
 "nbformat_minor": 2
}
