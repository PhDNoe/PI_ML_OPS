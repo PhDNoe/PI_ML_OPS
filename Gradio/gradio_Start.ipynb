{
 "cells": [
  {
   "cell_type": "code",
   "execution_count": 1,
   "metadata": {},
   "outputs": [],
   "source": [
    "import pickle\n",
    "import os\n",
    "import pandas as pd\n",
    "import numpy as np\n",
    "\n",
    "\n",
    "def load_models(mypath):\n",
    "\n",
    "    count = 0\n",
    "    # How many files?\n",
    "    for path in os.listdir(mypath):\n",
    "        if os.path.isfile(os.path.join(mypath, path)):\n",
    "            count += 1\n",
    "\n",
    "    models = []\n",
    "    for i in range(0,count):\n",
    "        with open(mypath+f\"m{i}.pkl\", \"rb\") as f:\n",
    "            models.append(pickle.load(f))\n",
    "            \n",
    "    return models, count\n",
    "\n",
    "\n",
    "def return_movie_Id(df, movie_name):\n",
    "    mask = df['title'] == movie_name.strip().lower()\n",
    "    res = df.loc[mask]\n",
    "    if not res.empty:\n",
    "        res = res['movieId'].unique().tolist()\n",
    "    else:\n",
    "        res = None\n",
    "    return res\n",
    "    \n",
    "\n",
    "def make_ensemble_predictions(models, count, userId, movieId):\n",
    "    preds = []\n",
    "    for i in range(count):\n",
    "        p1 = models[i].predict(userId, movieId).est\n",
    "        preds.append(p1)\n",
    "    \n",
    "   \n",
    "    preds = np.array(preds)\n",
    "    votes = preds>2.5\n",
    "    nvotes = np.count_nonzero(votes)\n",
    "    if nvotes>5:\n",
    "        return \"Recomended Movie\"\n",
    "    else:\n",
    "        return \"not recommended Movie\"\n",
    "\n",
    "# userId = 12840, movieId = 'as230'  true_rating = 4.5  --> recommended\n",
    "# userId = 16285, movieId = as2269 true_rating = 2.5  --> not recommended"
   ]
  },
  {
   "cell_type": "code",
   "execution_count": 2,
   "metadata": {},
   "outputs": [
    {
     "data": {
      "text/html": [
       "<div>\n",
       "<style scoped>\n",
       "    .dataframe tbody tr th:only-of-type {\n",
       "        vertical-align: middle;\n",
       "    }\n",
       "\n",
       "    .dataframe tbody tr th {\n",
       "        vertical-align: top;\n",
       "    }\n",
       "\n",
       "    .dataframe thead th {\n",
       "        text-align: right;\n",
       "    }\n",
       "</style>\n",
       "<table border=\"1\" class=\"dataframe\">\n",
       "  <thead>\n",
       "    <tr style=\"text-align: right;\">\n",
       "      <th></th>\n",
       "      <th>movieId</th>\n",
       "      <th>userId</th>\n",
       "      <th>score</th>\n",
       "      <th>title</th>\n",
       "    </tr>\n",
       "  </thead>\n",
       "  <tbody>\n",
       "    <tr>\n",
       "      <th>0</th>\n",
       "      <td>as680</td>\n",
       "      <td>1</td>\n",
       "      <td>1.0</td>\n",
       "      <td>the english civil war</td>\n",
       "    </tr>\n",
       "    <tr>\n",
       "      <th>1</th>\n",
       "      <td>ns2186</td>\n",
       "      <td>1</td>\n",
       "      <td>4.5</td>\n",
       "      <td>latte and the magic waterstone</td>\n",
       "    </tr>\n",
       "    <tr>\n",
       "      <th>2</th>\n",
       "      <td>hs2381</td>\n",
       "      <td>1</td>\n",
       "      <td>5.0</td>\n",
       "      <td>la diosa coronada</td>\n",
       "    </tr>\n",
       "    <tr>\n",
       "      <th>3</th>\n",
       "      <td>ns3663</td>\n",
       "      <td>1</td>\n",
       "      <td>5.0</td>\n",
       "      <td>frankenstein’s monster’s monster, frankenstein</td>\n",
       "    </tr>\n",
       "    <tr>\n",
       "      <th>4</th>\n",
       "      <td>as9500</td>\n",
       "      <td>1</td>\n",
       "      <td>5.0</td>\n",
       "      <td>kept woman</td>\n",
       "    </tr>\n",
       "  </tbody>\n",
       "</table>\n",
       "</div>"
      ],
      "text/plain": [
       "  movieId  userId  score                                           title\n",
       "0   as680       1    1.0                           the english civil war\n",
       "1  ns2186       1    4.5                  latte and the magic waterstone\n",
       "2  hs2381       1    5.0                               la diosa coronada\n",
       "3  ns3663       1    5.0  frankenstein’s monster’s monster, frankenstein\n",
       "4  as9500       1    5.0                                      kept woman"
      ]
     },
     "execution_count": 2,
     "metadata": {},
     "output_type": "execute_result"
    }
   ],
   "source": [
    "df = pd.read_csv('../data/clean/all_ratings_with_title.csv', index_col=0)\n",
    "df.head()"
   ]
  },
  {
   "cell_type": "markdown",
   "metadata": {},
   "source": [
    "---\n",
    "### Problem: several movies with same name\n",
    "\n",
    "---"
   ]
  },
  {
   "cell_type": "code",
   "execution_count": 3,
   "metadata": {},
   "outputs": [
    {
     "data": {
      "text/plain": [
       "array(['ds552', 'ns7565', 'hs2756'], dtype=object)"
      ]
     },
     "execution_count": 3,
     "metadata": {},
     "output_type": "execute_result"
    }
   ],
   "source": [
    "mask = df['title']=='national treasure'\n",
    "df.loc[mask]['movieId'].unique()"
   ]
  },
  {
   "cell_type": "code",
   "execution_count": 4,
   "metadata": {},
   "outputs": [
    {
     "data": {
      "text/plain": [
       "['ds552', 'ns7565', 'hs2756']"
      ]
     },
     "execution_count": 4,
     "metadata": {},
     "output_type": "execute_result"
    }
   ],
   "source": [
    "return_movie_Id(df, 'national treasure')"
   ]
  },
  {
   "cell_type": "code",
   "execution_count": 5,
   "metadata": {},
   "outputs": [
    {
     "data": {
      "text/plain": [
       "['as7565']"
      ]
     },
     "execution_count": 5,
     "metadata": {},
     "output_type": "execute_result"
    }
   ],
   "source": [
    "return_movie_Id(df, 'nicole')"
   ]
  },
  {
   "cell_type": "code",
   "execution_count": 9,
   "metadata": {},
   "outputs": [],
   "source": [
    "import pickle\n",
    "import numpy as np\n",
    "import gradio as gr\n",
    "\n",
    "mypath = '../data/models/ensamble1/'\n",
    "models, count = load_models(mypath)\n",
    "\n",
    "mypath = '../data/clean/'\n",
    "\n",
    "# df = pd.read_csv('../data/clean/all_ratings_with_title.csv', index_col=0)\n",
    "\n",
    "def make_predictions( userId, movieName):\n",
    "    \n",
    "    movieId = return_movie_Id(df, movieName)\n",
    "    print(\"movieId (inside make predictions)--> \", movieId)\n",
    "    print(\"movieName (inside make predictions)--> \", movieName)\n",
    "    pred = \"\"\n",
    "    if movieId!=None:\n",
    "        if len(movieId)>=1:\n",
    "            for i in range(len(movieId)):\n",
    "                pred += \"recomendation number \"+str(i+1)+\" --> \"+make_ensemble_predictions(models, count, userId, movieId[i])+\"\\n\"\n",
    "        \n",
    "    else:\n",
    "        pred = \"The movie doesnt exist\"\n",
    "    return pred\n",
    "\n",
    "\n",
    "\n",
    "# userId=12840,score=4.5, movieId=as230"
   ]
  },
  {
   "cell_type": "code",
   "execution_count": null,
   "metadata": {},
   "outputs": [],
   "source": [
    "#Create the input component for Gradio since we are expecting 4 inputs\n",
    "\n",
    "userId_input = gr.Number(label = \"Enter the userId\")\n",
    "# employment_input = gr.Number(label= \"Enter Employement Status {1:For Employed, 2: For Unemployed}\")\n",
    "move_input = gr.Textbox(label = \"Enter the movie\")\n",
    "# account_input = gr.Number(label = \"Enter your account Balance:\")\n",
    "# We create the output\n",
    "output = gr.Textbox()\n",
    "\n",
    "\n",
    "app = gr.Interface(fn = make_predictions, inputs=[userId_input, move_input], outputs=output)\n",
    "app.launch()"
   ]
  },
  {
   "cell_type": "markdown",
   "metadata": {},
   "source": [
    "userId = 26842\tmovieId = s7565\tscore = 1.0  movie=nicole  or movie= national treasure\n",
    "userId = 25060\tmovieId =s8013\tscore = 5.0"
   ]
  },
  {
   "cell_type": "code",
   "execution_count": 8,
   "metadata": {},
   "outputs": [
    {
     "data": {
      "text/html": [
       "<div>\n",
       "<style scoped>\n",
       "    .dataframe tbody tr th:only-of-type {\n",
       "        vertical-align: middle;\n",
       "    }\n",
       "\n",
       "    .dataframe tbody tr th {\n",
       "        vertical-align: top;\n",
       "    }\n",
       "\n",
       "    .dataframe thead th {\n",
       "        text-align: right;\n",
       "    }\n",
       "</style>\n",
       "<table border=\"1\" class=\"dataframe\">\n",
       "  <thead>\n",
       "    <tr style=\"text-align: right;\">\n",
       "      <th></th>\n",
       "      <th>movieId</th>\n",
       "      <th>userId</th>\n",
       "      <th>score</th>\n",
       "      <th>title</th>\n",
       "    </tr>\n",
       "  </thead>\n",
       "  <tbody>\n",
       "    <tr>\n",
       "      <th>0</th>\n",
       "      <td>as680</td>\n",
       "      <td>1</td>\n",
       "      <td>1.0</td>\n",
       "      <td>the english civil war</td>\n",
       "    </tr>\n",
       "    <tr>\n",
       "      <th>24</th>\n",
       "      <td>as7193</td>\n",
       "      <td>1</td>\n",
       "      <td>0.5</td>\n",
       "      <td>the tangle</td>\n",
       "    </tr>\n",
       "    <tr>\n",
       "      <th>42</th>\n",
       "      <td>hs1914</td>\n",
       "      <td>2</td>\n",
       "      <td>1.0</td>\n",
       "      <td>into the ashes</td>\n",
       "    </tr>\n",
       "    <tr>\n",
       "      <th>43</th>\n",
       "      <td>as9455</td>\n",
       "      <td>2</td>\n",
       "      <td>1.0</td>\n",
       "      <td>europen people</td>\n",
       "    </tr>\n",
       "    <tr>\n",
       "      <th>84</th>\n",
       "      <td>ns3279</td>\n",
       "      <td>4</td>\n",
       "      <td>1.0</td>\n",
       "      <td>sunganges</td>\n",
       "    </tr>\n",
       "    <tr>\n",
       "      <th>...</th>\n",
       "      <td>...</td>\n",
       "      <td>...</td>\n",
       "      <td>...</td>\n",
       "      <td>...</td>\n",
       "    </tr>\n",
       "    <tr>\n",
       "      <th>11024179</th>\n",
       "      <td>as9146</td>\n",
       "      <td>124374</td>\n",
       "      <td>1.0</td>\n",
       "      <td>my kingdom come</td>\n",
       "    </tr>\n",
       "    <tr>\n",
       "      <th>11024192</th>\n",
       "      <td>hs282</td>\n",
       "      <td>124375</td>\n",
       "      <td>1.0</td>\n",
       "      <td>i spit on your grave 2</td>\n",
       "    </tr>\n",
       "    <tr>\n",
       "      <th>11024218</th>\n",
       "      <td>ns5214</td>\n",
       "      <td>124376</td>\n",
       "      <td>1.0</td>\n",
       "      <td>patton oswalt: annihilation</td>\n",
       "    </tr>\n",
       "    <tr>\n",
       "      <th>11024268</th>\n",
       "      <td>ns4842</td>\n",
       "      <td>124380</td>\n",
       "      <td>1.5</td>\n",
       "      <td>november 13: attack on paris</td>\n",
       "    </tr>\n",
       "    <tr>\n",
       "      <th>11024288</th>\n",
       "      <td>as883</td>\n",
       "      <td>124380</td>\n",
       "      <td>1.5</td>\n",
       "      <td>storm boy</td>\n",
       "    </tr>\n",
       "  </tbody>\n",
       "</table>\n",
       "<p>682192 rows × 4 columns</p>\n",
       "</div>"
      ],
      "text/plain": [
       "         movieId  userId  score                         title\n",
       "0          as680       1    1.0         the english civil war\n",
       "24        as7193       1    0.5                    the tangle\n",
       "42        hs1914       2    1.0                into the ashes\n",
       "43        as9455       2    1.0                europen people\n",
       "84        ns3279       4    1.0                     sunganges\n",
       "...          ...     ...    ...                           ...\n",
       "11024179  as9146  124374    1.0               my kingdom come\n",
       "11024192   hs282  124375    1.0        i spit on your grave 2\n",
       "11024218  ns5214  124376    1.0   patton oswalt: annihilation\n",
       "11024268  ns4842  124380    1.5  november 13: attack on paris\n",
       "11024288   as883  124380    1.5                     storm boy\n",
       "\n",
       "[682192 rows x 4 columns]"
      ]
     },
     "execution_count": 8,
     "metadata": {},
     "output_type": "execute_result"
    },
    {
     "name": "stdout",
     "output_type": "stream",
     "text": [
      "movieId (inside make predictions)-->  ['as680']\n"
     ]
    }
   ],
   "source": [
    "df.loc[df['score']<2]"
   ]
  }
 ],
 "metadata": {
  "kernelspec": {
   "display_name": "Python 3.10.9 ('venvMLOPS')",
   "language": "python",
   "name": "python3"
  },
  "language_info": {
   "codemirror_mode": {
    "name": "ipython",
    "version": 3
   },
   "file_extension": ".py",
   "mimetype": "text/x-python",
   "name": "python",
   "nbconvert_exporter": "python",
   "pygments_lexer": "ipython3",
   "version": "3.10.9"
  },
  "orig_nbformat": 4,
  "vscode": {
   "interpreter": {
    "hash": "f04a89a6f8ef2a27e26381b4e6b69e6579d0b4af17984d409b8feccd73e07b9d"
   }
  }
 },
 "nbformat": 4,
 "nbformat_minor": 2
}
