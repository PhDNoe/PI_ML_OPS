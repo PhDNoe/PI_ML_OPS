{
 "cells": [
  {
   "cell_type": "code",
   "execution_count": 2,
   "metadata": {},
   "outputs": [
    {
     "name": "stdout",
     "output_type": "stream",
     "text": [
      "(22998, 16)\n"
     ]
    }
   ],
   "source": [
    "import pandas as pd\n",
    "\n",
    "df = pd.read_csv('./data/all_together_with_score.csv')\n",
    "df.drop(columns=['Unnamed: 0'], inplace=True)\n",
    "print(df.shape)\n",
    "\n",
    "\n"
   ]
  },
  {
   "cell_type": "code",
   "execution_count": 3,
   "metadata": {},
   "outputs": [
    {
     "data": {
      "text/html": [
       "<div>\n",
       "<style scoped>\n",
       "    .dataframe tbody tr th:only-of-type {\n",
       "        vertical-align: middle;\n",
       "    }\n",
       "\n",
       "    .dataframe tbody tr th {\n",
       "        vertical-align: top;\n",
       "    }\n",
       "\n",
       "    .dataframe thead th {\n",
       "        text-align: right;\n",
       "    }\n",
       "</style>\n",
       "<table border=\"1\" class=\"dataframe\">\n",
       "  <thead>\n",
       "    <tr style=\"text-align: right;\">\n",
       "      <th></th>\n",
       "      <th>id</th>\n",
       "      <th>show_id</th>\n",
       "      <th>type</th>\n",
       "      <th>title</th>\n",
       "      <th>director</th>\n",
       "      <th>cast</th>\n",
       "      <th>country</th>\n",
       "      <th>date_added</th>\n",
       "      <th>release_year</th>\n",
       "      <th>rating</th>\n",
       "      <th>duration</th>\n",
       "      <th>listed_in</th>\n",
       "      <th>description</th>\n",
       "      <th>duration_int</th>\n",
       "      <th>duration_type</th>\n",
       "      <th>score</th>\n",
       "    </tr>\n",
       "  </thead>\n",
       "  <tbody>\n",
       "    <tr>\n",
       "      <th>0</th>\n",
       "      <td>as1</td>\n",
       "      <td>s1</td>\n",
       "      <td>movie</td>\n",
       "      <td>the grand seduction</td>\n",
       "      <td>don mckellar</td>\n",
       "      <td>brendan gleeson, taylor kitsch, gordon pinsent</td>\n",
       "      <td>canada</td>\n",
       "      <td>2021/03/30</td>\n",
       "      <td>2014</td>\n",
       "      <td>g</td>\n",
       "      <td>113 min</td>\n",
       "      <td>comedy, drama</td>\n",
       "      <td>a small fishing village must procure a local d...</td>\n",
       "      <td>113</td>\n",
       "      <td>min</td>\n",
       "      <td>3.467131</td>\n",
       "    </tr>\n",
       "    <tr>\n",
       "      <th>1</th>\n",
       "      <td>as2</td>\n",
       "      <td>s2</td>\n",
       "      <td>movie</td>\n",
       "      <td>take care good night</td>\n",
       "      <td>girish joshi</td>\n",
       "      <td>mahesh manjrekar, abhay mahajan, sachin khedekar</td>\n",
       "      <td>india</td>\n",
       "      <td>2021/03/30</td>\n",
       "      <td>2018</td>\n",
       "      <td>13+</td>\n",
       "      <td>110 min</td>\n",
       "      <td>drama, international</td>\n",
       "      <td>a metro family decides to fight a cyber crimin...</td>\n",
       "      <td>110</td>\n",
       "      <td>min</td>\n",
       "      <td>3.548682</td>\n",
       "    </tr>\n",
       "    <tr>\n",
       "      <th>2</th>\n",
       "      <td>as3</td>\n",
       "      <td>s3</td>\n",
       "      <td>movie</td>\n",
       "      <td>secrets of deception</td>\n",
       "      <td>josh webber</td>\n",
       "      <td>tom sizemore, lorenzo lamas, robert lasardo, r...</td>\n",
       "      <td>united states</td>\n",
       "      <td>2021/03/30</td>\n",
       "      <td>2017</td>\n",
       "      <td>g</td>\n",
       "      <td>74 min</td>\n",
       "      <td>action, drama, suspense</td>\n",
       "      <td>after a man discovers his wife is cheating on ...</td>\n",
       "      <td>74</td>\n",
       "      <td>min</td>\n",
       "      <td>3.500000</td>\n",
       "    </tr>\n",
       "    <tr>\n",
       "      <th>3</th>\n",
       "      <td>as4</td>\n",
       "      <td>s4</td>\n",
       "      <td>movie</td>\n",
       "      <td>pink: staying true</td>\n",
       "      <td>sonia anderson</td>\n",
       "      <td>interviews with: pink, adele, beyoncé, britney...</td>\n",
       "      <td>united states</td>\n",
       "      <td>2021/03/30</td>\n",
       "      <td>2014</td>\n",
       "      <td>g</td>\n",
       "      <td>69 min</td>\n",
       "      <td>documentary</td>\n",
       "      <td>pink breaks the mold once again, bringing her ...</td>\n",
       "      <td>69</td>\n",
       "      <td>min</td>\n",
       "      <td>3.538055</td>\n",
       "    </tr>\n",
       "    <tr>\n",
       "      <th>4</th>\n",
       "      <td>as5</td>\n",
       "      <td>s5</td>\n",
       "      <td>movie</td>\n",
       "      <td>monster maker</td>\n",
       "      <td>giles foster</td>\n",
       "      <td>harry dean stanton, kieran o'brien, george cos...</td>\n",
       "      <td>united kingdom</td>\n",
       "      <td>2021/03/30</td>\n",
       "      <td>1989</td>\n",
       "      <td>g</td>\n",
       "      <td>45 min</td>\n",
       "      <td>drama, fantasy</td>\n",
       "      <td>teenage matt banting wants to work with a famo...</td>\n",
       "      <td>45</td>\n",
       "      <td>min</td>\n",
       "      <td>3.478992</td>\n",
       "    </tr>\n",
       "  </tbody>\n",
       "</table>\n",
       "</div>"
      ],
      "text/plain": [
       "    id show_id   type                 title        director  \\\n",
       "0  as1      s1  movie   the grand seduction    don mckellar   \n",
       "1  as2      s2  movie  take care good night    girish joshi   \n",
       "2  as3      s3  movie  secrets of deception     josh webber   \n",
       "3  as4      s4  movie    pink: staying true  sonia anderson   \n",
       "4  as5      s5  movie         monster maker    giles foster   \n",
       "\n",
       "                                                cast         country  \\\n",
       "0     brendan gleeson, taylor kitsch, gordon pinsent          canada   \n",
       "1   mahesh manjrekar, abhay mahajan, sachin khedekar           india   \n",
       "2  tom sizemore, lorenzo lamas, robert lasardo, r...   united states   \n",
       "3  interviews with: pink, adele, beyoncé, britney...   united states   \n",
       "4  harry dean stanton, kieran o'brien, george cos...  united kingdom   \n",
       "\n",
       "   date_added  release_year rating duration                listed_in  \\\n",
       "0  2021/03/30          2014      g  113 min            comedy, drama   \n",
       "1  2021/03/30          2018    13+  110 min     drama, international   \n",
       "2  2021/03/30          2017      g   74 min  action, drama, suspense   \n",
       "3  2021/03/30          2014      g   69 min              documentary   \n",
       "4  2021/03/30          1989      g   45 min           drama, fantasy   \n",
       "\n",
       "                                         description  duration_int  \\\n",
       "0  a small fishing village must procure a local d...           113   \n",
       "1  a metro family decides to fight a cyber crimin...           110   \n",
       "2  after a man discovers his wife is cheating on ...            74   \n",
       "3  pink breaks the mold once again, bringing her ...            69   \n",
       "4  teenage matt banting wants to work with a famo...            45   \n",
       "\n",
       "  duration_type     score  \n",
       "0           min  3.467131  \n",
       "1           min  3.548682  \n",
       "2           min  3.500000  \n",
       "3           min  3.538055  \n",
       "4           min  3.478992  "
      ]
     },
     "execution_count": 3,
     "metadata": {},
     "output_type": "execute_result"
    }
   ],
   "source": [
    "df.head()"
   ]
  },
  {
   "cell_type": "code",
   "execution_count": 4,
   "metadata": {},
   "outputs": [
    {
     "data": {
      "text/html": [
       "<div>\n",
       "<style scoped>\n",
       "    .dataframe tbody tr th:only-of-type {\n",
       "        vertical-align: middle;\n",
       "    }\n",
       "\n",
       "    .dataframe tbody tr th {\n",
       "        vertical-align: top;\n",
       "    }\n",
       "\n",
       "    .dataframe thead th {\n",
       "        text-align: right;\n",
       "    }\n",
       "</style>\n",
       "<table border=\"1\" class=\"dataframe\">\n",
       "  <thead>\n",
       "    <tr style=\"text-align: right;\">\n",
       "      <th></th>\n",
       "      <th>id</th>\n",
       "      <th>title</th>\n",
       "      <th>release_year</th>\n",
       "      <th>duration_int</th>\n",
       "      <th>duration_type</th>\n",
       "    </tr>\n",
       "  </thead>\n",
       "  <tbody>\n",
       "    <tr>\n",
       "      <th>16734</th>\n",
       "      <td>ns2544</td>\n",
       "      <td>unbreakable kimmy schmidt: kimmy vs. the reverend</td>\n",
       "      <td>2020</td>\n",
       "      <td>190</td>\n",
       "      <td>min</td>\n",
       "    </tr>\n",
       "    <tr>\n",
       "      <th>15843</th>\n",
       "      <td>ns1653</td>\n",
       "      <td>andhaghaaram</td>\n",
       "      <td>2020</td>\n",
       "      <td>171</td>\n",
       "      <td>min</td>\n",
       "    </tr>\n",
       "    <tr>\n",
       "      <th>15844</th>\n",
       "      <td>ns1654</td>\n",
       "      <td>andhakaaram</td>\n",
       "      <td>2020</td>\n",
       "      <td>171</td>\n",
       "      <td>min</td>\n",
       "    </tr>\n",
       "    <tr>\n",
       "      <th>17064</th>\n",
       "      <td>ns2874</td>\n",
       "      <td>ala vaikunthapurramuloo</td>\n",
       "      <td>2020</td>\n",
       "      <td>162</td>\n",
       "      <td>min</td>\n",
       "    </tr>\n",
       "    <tr>\n",
       "      <th>17031</th>\n",
       "      <td>ns2841</td>\n",
       "      <td>angu vaikuntapurathu (malayalam)</td>\n",
       "      <td>2020</td>\n",
       "      <td>162</td>\n",
       "      <td>min</td>\n",
       "    </tr>\n",
       "  </tbody>\n",
       "</table>\n",
       "</div>"
      ],
      "text/plain": [
       "           id                                              title  \\\n",
       "16734  ns2544  unbreakable kimmy schmidt: kimmy vs. the reverend   \n",
       "15843  ns1653                                       andhaghaaram   \n",
       "15844  ns1654                                        andhakaaram   \n",
       "17064  ns2874                            ala vaikunthapurramuloo   \n",
       "17031  ns2841                   angu vaikuntapurathu (malayalam)   \n",
       "\n",
       "       release_year  duration_int duration_type  \n",
       "16734          2020           190           min  \n",
       "15843          2020           171           min  \n",
       "15844          2020           171           min  \n",
       "17064          2020           162           min  \n",
       "17031          2020           162           min  "
      ]
     },
     "execution_count": 4,
     "metadata": {},
     "output_type": "execute_result"
    }
   ],
   "source": [
    "my_year=2020\n",
    "my_duration_type = \"min\"\n",
    "my_platform = \"Netflix\"\n",
    "\n",
    "df_filtered = df[['id','title','release_year','duration_int', 'duration_type']]\n",
    "\n",
    "\n",
    "\n",
    "\n",
    "if my_year!=\"all\" or  my_duration_type!='all' or  my_platform!=\"all\":\n",
    "    \n",
    "    if my_year!=\"all\":\n",
    "        cond_year = df_filtered['release_year']==int(my_year)\n",
    "    if my_platform!=\"all\":\n",
    "        cond_platform = df_filtered['id'].str.startswith(my_platform.lower()[0])\n",
    "    if my_duration_type!='all':\n",
    "        cond_dur_type = df_filtered['duration_type']==my_duration_type\n",
    "\n",
    "\n",
    "    # Estan todas las condiciones\n",
    "    if my_year!=\"all\" and  my_duration_type!='all' and  my_platform!=\"all\":\n",
    "        mask = cond_year & cond_dur_type & cond_platform\n",
    "    # Se cumplen dos condiciones\n",
    "    elif  my_year!=\"all\" and  my_duration_type!='all':\n",
    "        mask = cond_year & cond_dur_type        \n",
    "    elif  my_year!=\"all\" and  my_platform!=\"all\":\n",
    "        mask = cond_year & cond_platform\n",
    "    elif  my_duration_type!='all' and  my_platform!=\"all\":\n",
    "        mask = cond_dur_type & cond_platform\n",
    "\n",
    "    # Se cumple solo una condicion\n",
    "    elif my_year!=\"all\":\n",
    "        mask = cond_year\n",
    "    elif my_duration_type!='all':\n",
    "        mask = cond_dur_type\n",
    "    elif my_platform!=\"all\":\n",
    "        mask = cond_platform\n",
    "df_filtered = df_filtered[mask]\n",
    "\n",
    "df_filtered.sort_values(by='duration_int',ascending=False).head()"
   ]
  },
  {
   "cell_type": "code",
   "execution_count": 5,
   "metadata": {},
   "outputs": [],
   "source": [
    "\n",
    "def get_max_duration(year='all', platform='all', duration_type='all'):\n",
    "\n",
    "    \"\"\"\n",
    "        Película con mayor duración con filtros opcionales de AÑO, PLATAFORMA Y TIPO DE DURACIÓN.\n",
    "    \"\"\"\n",
    "    \n",
    "    df_filtered = df[['id','title','release_year','duration_int', 'duration_type']]\n",
    "    if my_year!=\"all\" or  my_duration_type!='all' or  my_platform!=\"all\":\n",
    "    \n",
    "        if my_year!=\"all\":\n",
    "            cond_year = df_filtered['release_year']==int(my_year)\n",
    "        if my_platform!=\"all\":\n",
    "            cond_platform = df_filtered['id'].str.startswith(my_platform.lower()[0])\n",
    "        if my_duration_type!='all':\n",
    "            cond_dur_type = df_filtered['duration_type']==my_duration_type\n",
    "\n",
    "\n",
    "        # Estan todas las condiciones\n",
    "        if my_year!=\"all\" and  my_duration_type!='all' and  my_platform!=\"all\":\n",
    "            mask = cond_year & cond_dur_type & cond_platform\n",
    "        # Se cumplen dos condiciones\n",
    "        elif  my_year!=\"all\" and  my_duration_type!='all':\n",
    "            mask = cond_year & cond_dur_type        \n",
    "        elif  my_year!=\"all\" and  my_platform!=\"all\":\n",
    "            mask = cond_year & cond_platform\n",
    "        elif  my_duration_type!='all' and  my_platform!=\"all\":\n",
    "            mask = cond_dur_type & cond_platform\n",
    "\n",
    "        # Se cumple solo una condicion\n",
    "        elif my_year!=\"all\":\n",
    "            mask = cond_year\n",
    "        elif my_duration_type!='all':\n",
    "            mask = cond_dur_type\n",
    "        elif my_platform!=\"all\":\n",
    "            mask = cond_platform\n",
    "    \n",
    "    # Aplico todos los filtros\n",
    "    df_filtered = df_filtered[mask]\n",
    "\n",
    "    # ordeno, y me quedo con el mas grande\n",
    "    result = None\n",
    "    if df_filtered.shape[0]>0:\n",
    "        result = df_filtered.sort_values(by='duration_int',ascending=False).head(1).title.values[0]   \n",
    "    return result\n"
   ]
  },
  {
   "cell_type": "code",
   "execution_count": 9,
   "metadata": {},
   "outputs": [
    {
     "data": {
      "text/plain": [
       "'the traitor'"
      ]
     },
     "execution_count": 9,
     "metadata": {},
     "output_type": "execute_result"
    }
   ],
   "source": [
    "my_year=2019\n",
    "my_duration_type = \"min\"\n",
    "my_platform = \"Hulu\"\n",
    "res = get_max_duration(my_year, my_platform, my_duration_type)\n",
    "res"
   ]
  },
  {
   "attachments": {},
   "cell_type": "markdown",
   "metadata": {},
   "source": [
    "---\n"
   ]
  },
  {
   "cell_type": "code",
   "execution_count": 10,
   "metadata": {},
   "outputs": [],
   "source": [
    "#  2) Cantidad de películas por plataforma con un puntaje mayor a XX en determinado año\n",
    "#  (la función debe llamarse get_score_count(platform, scored, year))\n",
    "\n",
    "def get_score_count(platform, scored, year):\n",
    "    \"\"\"\n",
    "        Cantidad de películas por plataforma con un puntaje mayor a XX en determinado año\n",
    "    \"\"\"\n",
    "\n",
    "    df_filtered = df[['id','release_year', 'score']]\n",
    "\n",
    "    cond_platform = df_filtered['id'].str.startswith(platform.lower()[0])\n",
    "    cond_year = df_filtered['release_year']==year\n",
    "    cond_score = df_filtered['score']>scored\n",
    "    mask = cond_platform & cond_year & cond_score    \n",
    "    amount = df_filtered[mask].shape[0]\n",
    "    # print(\"Amount --> \", amount)\n",
    "\n",
    "    return amount"
   ]
  },
  {
   "cell_type": "code",
   "execution_count": 16,
   "metadata": {},
   "outputs": [
    {
     "data": {
      "text/plain": [
       "242"
      ]
     },
     "execution_count": 16,
     "metadata": {},
     "output_type": "execute_result"
    }
   ],
   "source": [
    "my_year=2020\n",
    "my_score = 3.52\n",
    "my_platform = \"Hulu\"\n",
    "get_score_count(my_platform, my_score, my_year)"
   ]
  },
  {
   "attachments": {},
   "cell_type": "markdown",
   "metadata": {},
   "source": [
    "---\n"
   ]
  },
  {
   "cell_type": "code",
   "execution_count": 17,
   "metadata": {},
   "outputs": [],
   "source": [
    "# 3) Cantidad de películas por plataforma con filtro de PLATAFORMA. \n",
    "# #  (La función debe llamarse get_count_platform(platform))\n",
    "\n",
    "def get_count_platform(platform):\n",
    "    \"\"\"\n",
    "        Cantidad de películas por plataforma con filtro de PLATAFORMA\n",
    "    \"\"\"\n",
    "    df_filtered = df[['id']]\n",
    "    cond_platform = df_filtered['id'].str.startswith(platform.lower()[0])\n",
    "    amount = df_filtered[cond_platform].shape[0]\n",
    "    print(amount)\n",
    "    return amount\n"
   ]
  },
  {
   "cell_type": "code",
   "execution_count": 19,
   "metadata": {},
   "outputs": [
    {
     "name": "stdout",
     "output_type": "stream",
     "text": [
      "8807\n",
      "9668\n",
      "1450\n",
      "3073\n"
     ]
    }
   ],
   "source": [
    "n_netflix = get_count_platform(\"Netflix\")\n",
    "n_amazon = get_count_platform(\"Amazon\")\n",
    "n_disney = get_count_platform(\"Disney\")\n",
    "n_hulu = get_count_platform(\"Hulu\")\n"
   ]
  },
  {
   "attachments": {},
   "cell_type": "markdown",
   "metadata": {},
   "source": [
    "---\n"
   ]
  },
  {
   "cell_type": "code",
   "execution_count": 22,
   "metadata": {},
   "outputs": [],
   "source": [
    "#  4) Actor que más se repite según plataforma y año. \n",
    "# (La función debe llamarse get_actor(platform, year))\n",
    "\n",
    "def get_actor(platform, year):\n",
    "    \"\"\" \n",
    "        Actor que más se repite según plataforma y año. \n",
    "    \"\"\"\n",
    "\n",
    "    df_filtered = df[['id',\"release_year\", \"cast\"]]\n",
    "\n",
    "    cond_platform = df_filtered['id'].str.startswith(platform.lower()[0])\n",
    "    cond_year = df_filtered['release_year']==year\n",
    "    mask = cond_platform & cond_year\n",
    "    df_filtered = df_filtered[mask]\n",
    "\n",
    "    df_filtered = df_filtered.query('cast != \"unknown cast\"')\n",
    "\n",
    "    # separamos cada actor en su propia fila\n",
    "    df_cast = df_filtered['cast'].str.split(', ', expand=True).stack().reset_index(level=1, drop=True).to_frame('cast')\n",
    "\n",
    "    # Contar la cantidad de ocurrencias de cada actor\n",
    "    count_cast = df_cast['cast'].value_counts()\n",
    "    \n",
    "    # Seleccionar el actor con la mayor cantidad de ocurrencias\n",
    "    most_common_cast = count_cast.idxmax()\n",
    "\n",
    "    print(\"El actor que más se repite es:\", most_common_cast)\n",
    "\n",
    "    return most_common_cast"
   ]
  },
  {
   "cell_type": "code",
   "execution_count": 24,
   "metadata": {},
   "outputs": [
    {
     "name": "stdout",
     "output_type": "stream",
     "text": [
      "El actor que más se repite es: vincent tong\n"
     ]
    },
    {
     "data": {
      "text/plain": [
       "'vincent tong'"
      ]
     },
     "execution_count": 24,
     "metadata": {},
     "output_type": "execute_result"
    }
   ],
   "source": [
    "my_platform = \"Netflix\"\n",
    "my_year = 2019\n",
    "get_actor(my_platform, my_year)"
   ]
  }
 ],
 "metadata": {
  "kernelspec": {
   "display_name": "venvFastAPI",
   "language": "python",
   "name": "python3"
  },
  "language_info": {
   "codemirror_mode": {
    "name": "ipython",
    "version": 3
   },
   "file_extension": ".py",
   "mimetype": "text/x-python",
   "name": "python",
   "nbconvert_exporter": "python",
   "pygments_lexer": "ipython3",
   "version": "3.10.9"
  },
  "orig_nbformat": 4,
  "vscode": {
   "interpreter": {
    "hash": "e946a788f751efc9e5720f716a1bfd889bbc0b7e798278a06e7c7f285e514d36"
   }
  }
 },
 "nbformat": 4,
 "nbformat_minor": 2
}
