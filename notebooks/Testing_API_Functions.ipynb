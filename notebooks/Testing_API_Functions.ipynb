{
 "cells": [
  {
   "cell_type": "markdown",
   "metadata": {},
   "source": [
    "![divider](https://user-images.githubusercontent.com/7065401/52071927-c1cd7100-2562-11e9-908a-dde91ba14e59.png)\n",
    "\n",
    "## Noelia's ML_OPS Project!  👻👻\n",
    "\n",
    "###  Notebook: Testing API's inner functions \n",
    "\n",
    "![divider](https://user-images.githubusercontent.com/7065401/52071927-c1cd7100-2562-11e9-908a-dde91ba14e59.png)\n",
    "\n",
    "### Load dataset\n",
    "![divider](https://user-images.githubusercontent.com/7065401/52071927-c1cd7100-2562-11e9-908a-dde91ba14e59.png)"
   ]
  },
  {
   "cell_type": "code",
   "execution_count": 1,
   "metadata": {},
   "outputs": [
    {
     "name": "stdout",
     "output_type": "stream",
     "text": [
      "(22998, 14)\n"
     ]
    }
   ],
   "source": [
    "import pandas as pd\n",
    "\n",
    "df = pd.read_csv('../data/clean/all_together_with_score.csv')\n",
    "df.drop(columns=['Unnamed: 0'], inplace=True)\n",
    "print(df.shape)\n",
    "\n",
    "\n"
   ]
  },
  {
   "cell_type": "code",
   "execution_count": 2,
   "metadata": {},
   "outputs": [
    {
     "data": {
      "text/html": [
       "<div>\n",
       "<style scoped>\n",
       "    .dataframe tbody tr th:only-of-type {\n",
       "        vertical-align: middle;\n",
       "    }\n",
       "\n",
       "    .dataframe tbody tr th {\n",
       "        vertical-align: top;\n",
       "    }\n",
       "\n",
       "    .dataframe thead th {\n",
       "        text-align: right;\n",
       "    }\n",
       "</style>\n",
       "<table border=\"1\" class=\"dataframe\">\n",
       "  <thead>\n",
       "    <tr style=\"text-align: right;\">\n",
       "      <th></th>\n",
       "      <th>id</th>\n",
       "      <th>show_id</th>\n",
       "      <th>type</th>\n",
       "      <th>title</th>\n",
       "      <th>director</th>\n",
       "      <th>cast</th>\n",
       "      <th>country</th>\n",
       "      <th>release_year</th>\n",
       "      <th>rating</th>\n",
       "      <th>listed_in</th>\n",
       "      <th>description</th>\n",
       "      <th>duration_int</th>\n",
       "      <th>duration_type</th>\n",
       "      <th>score</th>\n",
       "    </tr>\n",
       "  </thead>\n",
       "  <tbody>\n",
       "    <tr>\n",
       "      <th>0</th>\n",
       "      <td>as1</td>\n",
       "      <td>s1</td>\n",
       "      <td>movie</td>\n",
       "      <td>the grand seduction</td>\n",
       "      <td>don mckellar</td>\n",
       "      <td>brendan gleeson, taylor kitsch, gordon pinsent</td>\n",
       "      <td>canada</td>\n",
       "      <td>2014</td>\n",
       "      <td>g</td>\n",
       "      <td>comedy, drama</td>\n",
       "      <td>a small fishing village must procure a local d...</td>\n",
       "      <td>113</td>\n",
       "      <td>min</td>\n",
       "      <td>3.467131</td>\n",
       "    </tr>\n",
       "    <tr>\n",
       "      <th>1</th>\n",
       "      <td>as2</td>\n",
       "      <td>s2</td>\n",
       "      <td>movie</td>\n",
       "      <td>take care good night</td>\n",
       "      <td>girish joshi</td>\n",
       "      <td>mahesh manjrekar, abhay mahajan, sachin khedekar</td>\n",
       "      <td>india</td>\n",
       "      <td>2018</td>\n",
       "      <td>13+</td>\n",
       "      <td>drama, international</td>\n",
       "      <td>a metro family decides to fight a cyber crimin...</td>\n",
       "      <td>110</td>\n",
       "      <td>min</td>\n",
       "      <td>3.548682</td>\n",
       "    </tr>\n",
       "    <tr>\n",
       "      <th>2</th>\n",
       "      <td>as3</td>\n",
       "      <td>s3</td>\n",
       "      <td>movie</td>\n",
       "      <td>secrets of deception</td>\n",
       "      <td>josh webber</td>\n",
       "      <td>tom sizemore, lorenzo lamas, robert lasardo, r...</td>\n",
       "      <td>united states</td>\n",
       "      <td>2017</td>\n",
       "      <td>g</td>\n",
       "      <td>action, drama, suspense</td>\n",
       "      <td>after a man discovers his wife is cheating on ...</td>\n",
       "      <td>74</td>\n",
       "      <td>min</td>\n",
       "      <td>3.500000</td>\n",
       "    </tr>\n",
       "    <tr>\n",
       "      <th>3</th>\n",
       "      <td>as4</td>\n",
       "      <td>s4</td>\n",
       "      <td>movie</td>\n",
       "      <td>pink: staying true</td>\n",
       "      <td>sonia anderson</td>\n",
       "      <td>interviews with: pink, adele, beyoncé, britney...</td>\n",
       "      <td>united states</td>\n",
       "      <td>2014</td>\n",
       "      <td>g</td>\n",
       "      <td>documentary</td>\n",
       "      <td>pink breaks the mold once again, bringing her ...</td>\n",
       "      <td>69</td>\n",
       "      <td>min</td>\n",
       "      <td>3.538055</td>\n",
       "    </tr>\n",
       "    <tr>\n",
       "      <th>4</th>\n",
       "      <td>as5</td>\n",
       "      <td>s5</td>\n",
       "      <td>movie</td>\n",
       "      <td>monster maker</td>\n",
       "      <td>giles foster</td>\n",
       "      <td>harry dean stanton, kieran o'brien, george cos...</td>\n",
       "      <td>united kingdom</td>\n",
       "      <td>1989</td>\n",
       "      <td>g</td>\n",
       "      <td>drama, fantasy</td>\n",
       "      <td>teenage matt banting wants to work with a famo...</td>\n",
       "      <td>45</td>\n",
       "      <td>min</td>\n",
       "      <td>3.478992</td>\n",
       "    </tr>\n",
       "  </tbody>\n",
       "</table>\n",
       "</div>"
      ],
      "text/plain": [
       "    id show_id   type                 title        director  \\\n",
       "0  as1      s1  movie   the grand seduction    don mckellar   \n",
       "1  as2      s2  movie  take care good night    girish joshi   \n",
       "2  as3      s3  movie  secrets of deception     josh webber   \n",
       "3  as4      s4  movie    pink: staying true  sonia anderson   \n",
       "4  as5      s5  movie         monster maker    giles foster   \n",
       "\n",
       "                                                cast         country  \\\n",
       "0     brendan gleeson, taylor kitsch, gordon pinsent          canada   \n",
       "1   mahesh manjrekar, abhay mahajan, sachin khedekar           india   \n",
       "2  tom sizemore, lorenzo lamas, robert lasardo, r...   united states   \n",
       "3  interviews with: pink, adele, beyoncé, britney...   united states   \n",
       "4  harry dean stanton, kieran o'brien, george cos...  united kingdom   \n",
       "\n",
       "   release_year rating                listed_in  \\\n",
       "0          2014      g            comedy, drama   \n",
       "1          2018    13+     drama, international   \n",
       "2          2017      g  action, drama, suspense   \n",
       "3          2014      g              documentary   \n",
       "4          1989      g           drama, fantasy   \n",
       "\n",
       "                                         description  duration_int  \\\n",
       "0  a small fishing village must procure a local d...           113   \n",
       "1  a metro family decides to fight a cyber crimin...           110   \n",
       "2  after a man discovers his wife is cheating on ...            74   \n",
       "3  pink breaks the mold once again, bringing her ...            69   \n",
       "4  teenage matt banting wants to work with a famo...            45   \n",
       "\n",
       "  duration_type     score  \n",
       "0           min  3.467131  \n",
       "1           min  3.548682  \n",
       "2           min  3.500000  \n",
       "3           min  3.538055  \n",
       "4           min  3.478992  "
      ]
     },
     "execution_count": 2,
     "metadata": {},
     "output_type": "execute_result"
    }
   ],
   "source": [
    "df.head()"
   ]
  },
  {
   "cell_type": "markdown",
   "metadata": {},
   "source": [
    "![divider](https://user-images.githubusercontent.com/7065401/52071927-c1cd7100-2562-11e9-908a-dde91ba14e59.png)\n",
    "\n",
    "### get_max_duration_inner\n",
    "![divider](https://user-images.githubusercontent.com/7065401/52071927-c1cd7100-2562-11e9-908a-dde91ba14e59.png)"
   ]
  },
  {
   "cell_type": "code",
   "execution_count": 8,
   "metadata": {},
   "outputs": [],
   "source": [
    "\n",
    "\n",
    "def get_max_duration_inner(df:pd.DataFrame, year=None, platform=None, duration_type=None ):\n",
    "\n",
    "    \"\"\"\n",
    "        This function returns the movie with longer duration with optional filters of year, \n",
    "        platform and duration_type\n",
    "    \"\"\"\n",
    "    \n",
    "    df_filtered = df[['id','title','release_year','duration_int', 'duration_type']]\n",
    "    \n",
    "\n",
    "    cond_year =  df_filtered['release_year'] == year if year else pd.Series(True, index=df_filtered.index)\n",
    "    cond_platform = df_filtered['id'].str.startswith(platform.lower()[0]) if platform else pd.Series(True, index=df_filtered.index)\n",
    "    cond_dur_type = df_filtered['duration_type']==duration_type.lower() if duration_type else pd.Series(True, index=df_filtered.index)\n",
    "    mask = cond_year & cond_platform & cond_dur_type\n",
    "    df_filtered = df_filtered[mask]\n",
    "    \n",
    "    \n",
    "    # Sort and get biggest\n",
    "    result = None\n",
    "    if df_filtered.shape[0]>0:\n",
    "        result = df_filtered.sort_values(by='duration_int',ascending=False).head(1).title.values[0]   \n",
    "    return result\n"
   ]
  },
  {
   "cell_type": "code",
   "execution_count": 9,
   "metadata": {},
   "outputs": [
    {
     "data": {
      "text/plain": [
       "'the traitor'"
      ]
     },
     "execution_count": 9,
     "metadata": {},
     "output_type": "execute_result"
    }
   ],
   "source": [
    "my_year=2019\n",
    "my_duration_type = \"min\"\n",
    "my_platform = \"Hulu\"\n",
    "res = get_max_duration_inner(df, my_year, my_platform, my_duration_type)\n",
    "res"
   ]
  },
  {
   "cell_type": "markdown",
   "metadata": {},
   "source": [
    "![divider](https://user-images.githubusercontent.com/7065401/52071927-c1cd7100-2562-11e9-908a-dde91ba14e59.png)\n",
    "### get_score_count_inner\n",
    "\n",
    "![divider](https://user-images.githubusercontent.com/7065401/52071927-c1cd7100-2562-11e9-908a-dde91ba14e59.png)\n",
    "\n"
   ]
  },
  {
   "cell_type": "code",
   "execution_count": 10,
   "metadata": {},
   "outputs": [],
   "source": [
    "\n",
    "\n",
    "def get_score_count_inner(df:pd.DataFrame, platform, scored, year):\n",
    "    \"\"\"\n",
    "        This function returns the number of films by platform with a score \n",
    "        greater than XX in a given year\n",
    "    \"\"\"\n",
    "\n",
    "    df_filtered = df[['id','release_year', 'score']]\n",
    "\n",
    "    cond_platform = df_filtered['id'].str.startswith(platform.lower()[0])\n",
    "    cond_year = df_filtered['release_year']==year\n",
    "    cond_score = df_filtered['score']>scored\n",
    "    mask = cond_platform & cond_year & cond_score    \n",
    "    amount = df_filtered[mask].shape[0]\n",
    "    \n",
    "\n",
    "    return amount"
   ]
  },
  {
   "cell_type": "code",
   "execution_count": 11,
   "metadata": {},
   "outputs": [
    {
     "data": {
      "text/plain": [
       "242"
      ]
     },
     "execution_count": 11,
     "metadata": {},
     "output_type": "execute_result"
    }
   ],
   "source": [
    "my_year=2020\n",
    "my_score = 3.52\n",
    "my_platform = \"Hulu\"\n",
    "get_score_count_inner(df, my_platform, my_score, my_year)"
   ]
  },
  {
   "attachments": {},
   "cell_type": "markdown",
   "metadata": {},
   "source": [
    "![divider](https://user-images.githubusercontent.com/7065401/52071927-c1cd7100-2562-11e9-908a-dde91ba14e59.png)\n",
    "### get_count_platform_inner\n",
    "![divider](https://user-images.githubusercontent.com/7065401/52071927-c1cd7100-2562-11e9-908a-dde91ba14e59.png)"
   ]
  },
  {
   "cell_type": "code",
   "execution_count": 12,
   "metadata": {},
   "outputs": [],
   "source": [
    "\n",
    "\n",
    "def get_count_platform_inner(df:pd.DataFrame, platform):\n",
    "    \"\"\"\n",
    "        This function returns the number of movies per platform. \n",
    "    \"\"\"\n",
    "    df_filtered = df[['id']]\n",
    "    cond_platform = df_filtered['id'].str.startswith(platform.lower()[0])\n",
    "    amount = df_filtered[cond_platform].shape[0]\n",
    "    \n",
    "    return amount\n",
    "import pandas as pd"
   ]
  },
  {
   "cell_type": "code",
   "execution_count": 14,
   "metadata": {},
   "outputs": [
    {
     "data": {
      "text/plain": [
       "(8807, 9668, 1450, 3073)"
      ]
     },
     "execution_count": 14,
     "metadata": {},
     "output_type": "execute_result"
    }
   ],
   "source": [
    "n_netflix = get_count_platform_inner(df, \"Netflix\")\n",
    "n_amazon = get_count_platform_inner(df, \"Amazon\")\n",
    "n_disney = get_count_platform_inner(df, \"Disney\")\n",
    "n_hulu = get_count_platform_inner(df, \"Hulu\")\n",
    "\n",
    "n_netflix,n_amazon, n_disney, n_hulu\n"
   ]
  },
  {
   "attachments": {},
   "cell_type": "markdown",
   "metadata": {},
   "source": [
    "![divider](https://user-images.githubusercontent.com/7065401/52071927-c1cd7100-2562-11e9-908a-dde91ba14e59.png)\n",
    "### get_actor_inner\n",
    "\n",
    "![divider](https://user-images.githubusercontent.com/7065401/52071927-c1cd7100-2562-11e9-908a-dde91ba14e59.png)"
   ]
  },
  {
   "cell_type": "code",
   "execution_count": 15,
   "metadata": {},
   "outputs": [],
   "source": [
    "\n",
    "\n",
    "def get_actor_inner(df:pd.DataFrame, platform, year):\n",
    "    \"\"\" \n",
    "        This async function returns the actor who appears the most times according to platform and year\n",
    "    \"\"\"\n",
    "\n",
    "    df_filtered = df[['id',\"release_year\", \"cast\"]]\n",
    "\n",
    "    cond_platform = df_filtered['id'].str.startswith(platform.lower()[0])\n",
    "    cond_year = df_filtered['release_year']==year\n",
    "    mask = cond_platform & cond_year\n",
    "    df_filtered = df_filtered[mask]\n",
    "\n",
    "    most_common_cast = None\n",
    "    if not df_filtered.empty :\n",
    "        # discard \"unknown cast\"\n",
    "        df_filtered = df_filtered.query('cast != \"unknown cast\"')\n",
    "\n",
    "        # separate each actor in its own row\n",
    "        df_cast = df_filtered['cast'].str.split(', ', expand=True).stack().reset_index(level=1, drop=True).to_frame('cast')\n",
    "\n",
    "        # Count the number of occurrences of each actor\n",
    "        count_cast = df_cast['cast'].value_counts()\n",
    "        \n",
    "        # Select the actor with the most occurrences\n",
    "        most_common_cast = count_cast.idxmax()\n",
    "\n",
    "    \n",
    "\n",
    "    return most_common_cast"
   ]
  },
  {
   "cell_type": "code",
   "execution_count": 16,
   "metadata": {},
   "outputs": [
    {
     "data": {
      "text/plain": [
       "'vincent tong'"
      ]
     },
     "execution_count": 16,
     "metadata": {},
     "output_type": "execute_result"
    }
   ],
   "source": [
    "my_platform = \"Netflix\"\n",
    "my_year = 2019\n",
    "get_actor_inner(df, my_platform, my_year)"
   ]
  },
  {
   "cell_type": "markdown",
   "metadata": {},
   "source": [
    "![divider](https://user-images.githubusercontent.com/7065401/52071927-c1cd7100-2562-11e9-908a-dde91ba14e59.png)"
   ]
  }
 ],
 "metadata": {
  "kernelspec": {
   "display_name": "Python 3.10.7 64-bit",
   "language": "python",
   "name": "python3"
  },
  "language_info": {
   "codemirror_mode": {
    "name": "ipython",
    "version": 3
   },
   "file_extension": ".py",
   "mimetype": "text/x-python",
   "name": "python",
   "nbconvert_exporter": "python",
   "pygments_lexer": "ipython3",
   "version": "3.10.7"
  },
  "orig_nbformat": 4,
  "vscode": {
   "interpreter": {
    "hash": "91feae2c62c7f7dd8c694bfef93388a2801ca0d10da16ba22787f425e87199c5"
   }
  }
 },
 "nbformat": 4,
 "nbformat_minor": 2
}
